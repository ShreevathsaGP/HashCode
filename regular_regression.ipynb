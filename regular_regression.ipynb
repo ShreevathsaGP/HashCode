{
  "nbformat": 4,
  "nbformat_minor": 0,
  "metadata": {
    "colab": {
      "provenance": []
    },
    "kernelspec": {
      "name": "python3",
      "display_name": "Python 3"
    },
    "language_info": {
      "name": "python"
    }
  },
  "cells": [
    {
      "cell_type": "code",
      "execution_count": null,
      "metadata": {
        "id": "xiwAjfVpf5jd"
      },
      "outputs": [],
      "source": [
        "# imports\n",
        "import time\n",
        "import math\n",
        "import json\n",
        "import pickle\n",
        "import random\n",
        "import numpy as np\n",
        "import pandas as pd\n",
        "import matplotlib.pyplot as plt\n",
        "%matplotlib inline               \n",
        "\n",
        "months = {\"JAN\": 0, \"FEB\": 1, \"MAR\": 2, \"APR\": 3, \"MAY\": 4, \"JUN\": 5, \"JUL\": 6, \"AUG\":7, \"SEP\":8, \"OCT\":9, \"NOV\": 10, \"DEC\":11}"
      ]
    },
    {
      "cell_type": "markdown",
      "source": [
        "## <i><u>PREPROCESSING</u></i>"
      ],
      "metadata": {
        "id": "j1hr_cMTHkQ2"
      }
    },
    {
      "cell_type": "code",
      "source": [
        "plt.rcParams['figure.figsize'] = (23, 10)\n",
        "df = pd.read_csv('problem_1.csv')\n",
        "df.head()"
      ],
      "metadata": {
        "colab": {
          "base_uri": "https://localhost:8080/",
          "height": 206
        },
        "id": "w3sxUAfXhLCQ",
        "outputId": "fcc6cbd7-93d4-4523-ef5a-a0b1b7aaa424"
      },
      "execution_count": null,
      "outputs": [
        {
          "output_type": "execute_result",
          "data": {
            "text/plain": [
              "  Business Unit Product Family             PLID Fiscal Quarter Fiscal Month  \\\n",
              "0         CSWBU           CBR8  CBR-D121-DS-MOD      Q1 FY2022   AUG FY2022   \n",
              "1         CSWBU           CBR8  CBR-D121-DS-MOD      Q1 FY2022   OCT FY2022   \n",
              "2         CSWBU           CBR8  CBR-D121-DS-MOD      Q1 FY2022   SEP FY2022   \n",
              "3         CSWBU           CBR8  CBR-D121-DS-MOD      Q1 FY2002   AUG FY2002   \n",
              "4         CSWBU           CBR8  CBR-D121-DS-MOD      Q1 FY2002   OCT FY2002   \n",
              "\n",
              "   Booked_Qty Booking_Date  \n",
              "0         204   01-08-2016  \n",
              "1         564   01-10-2016  \n",
              "2        1476   01-09-2016  \n",
              "3         374   01-08-2017  \n",
              "4        6094   01-10-2017  "
            ],
            "text/html": [
              "\n",
              "  <div id=\"df-0a7da3c6-1591-4186-821a-6959bf8a1490\">\n",
              "    <div class=\"colab-df-container\">\n",
              "      <div>\n",
              "<style scoped>\n",
              "    .dataframe tbody tr th:only-of-type {\n",
              "        vertical-align: middle;\n",
              "    }\n",
              "\n",
              "    .dataframe tbody tr th {\n",
              "        vertical-align: top;\n",
              "    }\n",
              "\n",
              "    .dataframe thead th {\n",
              "        text-align: right;\n",
              "    }\n",
              "</style>\n",
              "<table border=\"1\" class=\"dataframe\">\n",
              "  <thead>\n",
              "    <tr style=\"text-align: right;\">\n",
              "      <th></th>\n",
              "      <th>Business Unit</th>\n",
              "      <th>Product Family</th>\n",
              "      <th>PLID</th>\n",
              "      <th>Fiscal Quarter</th>\n",
              "      <th>Fiscal Month</th>\n",
              "      <th>Booked_Qty</th>\n",
              "      <th>Booking_Date</th>\n",
              "    </tr>\n",
              "  </thead>\n",
              "  <tbody>\n",
              "    <tr>\n",
              "      <th>0</th>\n",
              "      <td>CSWBU</td>\n",
              "      <td>CBR8</td>\n",
              "      <td>CBR-D121-DS-MOD</td>\n",
              "      <td>Q1 FY2022</td>\n",
              "      <td>AUG FY2022</td>\n",
              "      <td>204</td>\n",
              "      <td>01-08-2016</td>\n",
              "    </tr>\n",
              "    <tr>\n",
              "      <th>1</th>\n",
              "      <td>CSWBU</td>\n",
              "      <td>CBR8</td>\n",
              "      <td>CBR-D121-DS-MOD</td>\n",
              "      <td>Q1 FY2022</td>\n",
              "      <td>OCT FY2022</td>\n",
              "      <td>564</td>\n",
              "      <td>01-10-2016</td>\n",
              "    </tr>\n",
              "    <tr>\n",
              "      <th>2</th>\n",
              "      <td>CSWBU</td>\n",
              "      <td>CBR8</td>\n",
              "      <td>CBR-D121-DS-MOD</td>\n",
              "      <td>Q1 FY2022</td>\n",
              "      <td>SEP FY2022</td>\n",
              "      <td>1476</td>\n",
              "      <td>01-09-2016</td>\n",
              "    </tr>\n",
              "    <tr>\n",
              "      <th>3</th>\n",
              "      <td>CSWBU</td>\n",
              "      <td>CBR8</td>\n",
              "      <td>CBR-D121-DS-MOD</td>\n",
              "      <td>Q1 FY2002</td>\n",
              "      <td>AUG FY2002</td>\n",
              "      <td>374</td>\n",
              "      <td>01-08-2017</td>\n",
              "    </tr>\n",
              "    <tr>\n",
              "      <th>4</th>\n",
              "      <td>CSWBU</td>\n",
              "      <td>CBR8</td>\n",
              "      <td>CBR-D121-DS-MOD</td>\n",
              "      <td>Q1 FY2002</td>\n",
              "      <td>OCT FY2002</td>\n",
              "      <td>6094</td>\n",
              "      <td>01-10-2017</td>\n",
              "    </tr>\n",
              "  </tbody>\n",
              "</table>\n",
              "</div>\n",
              "      <button class=\"colab-df-convert\" onclick=\"convertToInteractive('df-0a7da3c6-1591-4186-821a-6959bf8a1490')\"\n",
              "              title=\"Convert this dataframe to an interactive table.\"\n",
              "              style=\"display:none;\">\n",
              "        \n",
              "  <svg xmlns=\"http://www.w3.org/2000/svg\" height=\"24px\"viewBox=\"0 0 24 24\"\n",
              "       width=\"24px\">\n",
              "    <path d=\"M0 0h24v24H0V0z\" fill=\"none\"/>\n",
              "    <path d=\"M18.56 5.44l.94 2.06.94-2.06 2.06-.94-2.06-.94-.94-2.06-.94 2.06-2.06.94zm-11 1L8.5 8.5l.94-2.06 2.06-.94-2.06-.94L8.5 2.5l-.94 2.06-2.06.94zm10 10l.94 2.06.94-2.06 2.06-.94-2.06-.94-.94-2.06-.94 2.06-2.06.94z\"/><path d=\"M17.41 7.96l-1.37-1.37c-.4-.4-.92-.59-1.43-.59-.52 0-1.04.2-1.43.59L10.3 9.45l-7.72 7.72c-.78.78-.78 2.05 0 2.83L4 21.41c.39.39.9.59 1.41.59.51 0 1.02-.2 1.41-.59l7.78-7.78 2.81-2.81c.8-.78.8-2.07 0-2.86zM5.41 20L4 18.59l7.72-7.72 1.47 1.35L5.41 20z\"/>\n",
              "  </svg>\n",
              "      </button>\n",
              "      \n",
              "  <style>\n",
              "    .colab-df-container {\n",
              "      display:flex;\n",
              "      flex-wrap:wrap;\n",
              "      gap: 12px;\n",
              "    }\n",
              "\n",
              "    .colab-df-convert {\n",
              "      background-color: #E8F0FE;\n",
              "      border: none;\n",
              "      border-radius: 50%;\n",
              "      cursor: pointer;\n",
              "      display: none;\n",
              "      fill: #1967D2;\n",
              "      height: 32px;\n",
              "      padding: 0 0 0 0;\n",
              "      width: 32px;\n",
              "    }\n",
              "\n",
              "    .colab-df-convert:hover {\n",
              "      background-color: #E2EBFA;\n",
              "      box-shadow: 0px 1px 2px rgba(60, 64, 67, 0.3), 0px 1px 3px 1px rgba(60, 64, 67, 0.15);\n",
              "      fill: #174EA6;\n",
              "    }\n",
              "\n",
              "    [theme=dark] .colab-df-convert {\n",
              "      background-color: #3B4455;\n",
              "      fill: #D2E3FC;\n",
              "    }\n",
              "\n",
              "    [theme=dark] .colab-df-convert:hover {\n",
              "      background-color: #434B5C;\n",
              "      box-shadow: 0px 1px 3px 1px rgba(0, 0, 0, 0.15);\n",
              "      filter: drop-shadow(0px 1px 2px rgba(0, 0, 0, 0.3));\n",
              "      fill: #FFFFFF;\n",
              "    }\n",
              "  </style>\n",
              "\n",
              "      <script>\n",
              "        const buttonEl =\n",
              "          document.querySelector('#df-0a7da3c6-1591-4186-821a-6959bf8a1490 button.colab-df-convert');\n",
              "        buttonEl.style.display =\n",
              "          google.colab.kernel.accessAllowed ? 'block' : 'none';\n",
              "\n",
              "        async function convertToInteractive(key) {\n",
              "          const element = document.querySelector('#df-0a7da3c6-1591-4186-821a-6959bf8a1490');\n",
              "          const dataTable =\n",
              "            await google.colab.kernel.invokeFunction('convertToInteractive',\n",
              "                                                     [key], {});\n",
              "          if (!dataTable) return;\n",
              "\n",
              "          const docLinkHtml = 'Like what you see? Visit the ' +\n",
              "            '<a target=\"_blank\" href=https://colab.research.google.com/notebooks/data_table.ipynb>data table notebook</a>'\n",
              "            + ' to learn more about interactive tables.';\n",
              "          element.innerHTML = '';\n",
              "          dataTable['output_type'] = 'display_data';\n",
              "          await google.colab.output.renderOutput(dataTable, element);\n",
              "          const docLink = document.createElement('div');\n",
              "          docLink.innerHTML = docLinkHtml;\n",
              "          element.appendChild(docLink);\n",
              "        }\n",
              "      </script>\n",
              "    </div>\n",
              "  </div>\n",
              "  "
            ]
          },
          "metadata": {},
          "execution_count": 178
        }
      ]
    },
    {
      "cell_type": "code",
      "source": [
        "array = df.to_numpy()\n",
        "print(array)"
      ],
      "metadata": {
        "colab": {
          "base_uri": "https://localhost:8080/"
        },
        "id": "1Oi-c61ww1Ps",
        "outputId": "d8afe9d5-e925-4825-850f-e136afe9e9fa"
      },
      "execution_count": null,
      "outputs": [
        {
          "output_type": "stream",
          "name": "stdout",
          "text": [
            "[['CSWBU' 'CBR8' 'CBR-D121-DS-MOD' ... 'AUG FY2022' 204 '01-08-2016']\n",
            " ['CSWBU' 'CBR8' 'CBR-D121-DS-MOD' ... 'OCT FY2022' 564 '01-10-2016']\n",
            " ['CSWBU' 'CBR8' 'CBR-D121-DS-MOD' ... 'SEP FY2022' 1476 '01-09-2016']\n",
            " ...\n",
            " ['RTOBU' 'C980040' 'C9800-40-K9' ... 'JUL FY2012' 1231 '01-07-2021']\n",
            " ['RTOBU' 'C980040' 'C9800-40-K9' ... 'JUN FY2012' 591 '01-06-2021']\n",
            " ['RTOBU' 'C980040' 'C9800-40-K9' ... 'MAY FY2012' 601 '01-05-2021']]\n"
          ]
        }
      ]
    },
    {
      "cell_type": "code",
      "source": [
        "print(len(array))"
      ],
      "metadata": {
        "colab": {
          "base_uri": "https://localhost:8080/"
        },
        "id": "DMbSAFJ7w8ks",
        "outputId": "ebdbaac9-da1c-4a2a-8d0e-6fbcaa415bcc"
      },
      "execution_count": null,
      "outputs": [
        {
          "output_type": "stream",
          "name": "stdout",
          "text": [
            "10996\n"
          ]
        }
      ]
    },
    {
      "cell_type": "code",
      "source": [
        "# plot 1 [booked quantity VS business unit]\n",
        "\n",
        "business_units = df[\"Business Unit\"]\n",
        "booked_quants = df[\"Booked_Qty\"]\n"
      ],
      "metadata": {
        "id": "zsyQtHH7h3zr"
      },
      "execution_count": null,
      "outputs": []
    },
    {
      "cell_type": "code",
      "source": [
        "# display plot\n",
        "#plt.bar(business_units, booked_quants, color ='maroon', width = 0.4)\n",
        "#plt.show()"
      ],
      "metadata": {
        "id": "3V_QW2VHsKVK"
      },
      "execution_count": null,
      "outputs": []
    },
    {
      "cell_type": "code",
      "source": [
        "# plot 2 [booked quantity vs product family]\n",
        "\n",
        "new_df = df[[\"Product Family\", \"Booked_Qty\"]]\n",
        "grouped = new_df.groupby(\"Product Family\")['Booked_Qty'].sum()\n",
        "\n",
        "array_2 = grouped.to_numpy()"
      ],
      "metadata": {
        "id": "ZVeIDW9bkeiO"
      },
      "execution_count": null,
      "outputs": []
    },
    {
      "cell_type": "code",
      "source": [
        "with pd.option_context('display.max_rows', None, 'display.max_columns', None, 'display.precision', 3, ):\n",
        "    grouped.head()"
      ],
      "metadata": {
        "id": "GU_NvWAysAvm"
      },
      "execution_count": null,
      "outputs": []
    },
    {
      "cell_type": "code",
      "source": [
        "df = pd.read_csv('problem_1.csv')"
      ],
      "metadata": {
        "id": "5nnKaoHu_5Yb"
      },
      "execution_count": null,
      "outputs": []
    },
    {
      "cell_type": "code",
      "source": [
        "parts = df[\"Booking_Date\"].str.split(\"-\", n = 3, expand = True)\n",
        "df.head()\n",
        "arr = df.to_numpy()\n",
        "\n",
        "# separate date of order\n",
        "\n",
        "# old method\n",
        "# df[\"year\"]= parts[2].astype('int')\n",
        "# df[\"month\"]= parts[1].astype('int')\n",
        "\n",
        "# new method\n",
        "df[\"month\"] = df[\"Fiscal Month\"].str[0:3].astype(str).map(months).astype(int)\n",
        "df[\"year\"] = df[\"Fiscal Month\"].str[6:].astype(int)\n",
        "df[\"year\"].head()\n",
        "df['prod_info'] = df['Business Unit'] + df['Product Family'] + df['PLID']\n",
        "\n",
        "# print results\n",
        "print(df['Business Unit'].nunique(),'Business Unit')\n",
        "print(df['Product Family'].nunique(),'Product Family')\n",
        "print(df['PLID'].nunique(),'PLID')\n",
        "print(df['year'].nunique(),'year')\n",
        "print(df['month'].nunique(),'month')\n",
        "\n",
        "# replace features with numbers\n",
        "df['Business Unit Val'], business_unit_u = pd.factorize(df['Business Unit'])\n",
        "df['Product Family Val'], product_family_u = pd.factorize(df['Product Family'])\n",
        "df['PLID Val'], plid_u = pd.factorize(df['PLID'])\n",
        "\n",
        "# store numerifications into json\n",
        "f = open(\"numerifications.json\", 'w')\n",
        "d = {\"Business Unit\": {}, \"Product Family\": {}, \"PLID\": {}}\n",
        "\n",
        "for i, x in enumerate(business_unit_u):\n",
        "    d[\"Business Unit\"][i] = x\n",
        "\n",
        "for i, x in enumerate(product_family_u):\n",
        "    d[\"Product Family\"][i] = x\n",
        "\n",
        "for i, x in enumerate(plid_u):\n",
        "    d[\"PLID\"][i] = x\n",
        "\n",
        "json.dump(d, f, indent = 4)\n",
        "f.close()\n",
        "\n",
        "# remove old features\n",
        "df.drop('Fiscal Quarter', inplace=True, axis=1)\n",
        "df.drop('Business Unit', inplace=True, axis=1)\n",
        "df.drop('PLID', inplace=True, axis=1)\n",
        "df.drop('Fiscal Month', inplace=True, axis=1)\n",
        "df.drop('prod_info', inplace=True, axis=1)\n",
        "df.drop('Product Family', inplace=True, axis=1)\n",
        "df.drop('Booking_Date', inplace=True, axis=1)\n",
        "\n",
        "data = df.copy()\n",
        "df.head()"
      ],
      "metadata": {
        "colab": {
          "base_uri": "https://localhost:8080/",
          "height": 293
        },
        "id": "NBIQ9Hgd_0eq",
        "outputId": "e0e26b0c-5061-4b91-dc3b-407e969343b4"
      },
      "execution_count": null,
      "outputs": [
        {
          "output_type": "stream",
          "name": "stdout",
          "text": [
            "18 Business Unit\n",
            "73 Product Family\n",
            "250 PLID\n",
            "9 year\n",
            "12 month\n"
          ]
        },
        {
          "output_type": "execute_result",
          "data": {
            "text/plain": [
              "   Booked_Qty  month  year  Business Unit Val  Product Family Val  PLID Val\n",
              "0         204      7  2022                  0                   0         0\n",
              "1         564      9  2022                  0                   0         0\n",
              "2        1476      8  2022                  0                   0         0\n",
              "3         374      7  2002                  0                   0         0\n",
              "4        6094      9  2002                  0                   0         0"
            ],
            "text/html": [
              "\n",
              "  <div id=\"df-2509c347-e7d4-4fba-b4c7-c15dd4aa5141\">\n",
              "    <div class=\"colab-df-container\">\n",
              "      <div>\n",
              "<style scoped>\n",
              "    .dataframe tbody tr th:only-of-type {\n",
              "        vertical-align: middle;\n",
              "    }\n",
              "\n",
              "    .dataframe tbody tr th {\n",
              "        vertical-align: top;\n",
              "    }\n",
              "\n",
              "    .dataframe thead th {\n",
              "        text-align: right;\n",
              "    }\n",
              "</style>\n",
              "<table border=\"1\" class=\"dataframe\">\n",
              "  <thead>\n",
              "    <tr style=\"text-align: right;\">\n",
              "      <th></th>\n",
              "      <th>Booked_Qty</th>\n",
              "      <th>month</th>\n",
              "      <th>year</th>\n",
              "      <th>Business Unit Val</th>\n",
              "      <th>Product Family Val</th>\n",
              "      <th>PLID Val</th>\n",
              "    </tr>\n",
              "  </thead>\n",
              "  <tbody>\n",
              "    <tr>\n",
              "      <th>0</th>\n",
              "      <td>204</td>\n",
              "      <td>7</td>\n",
              "      <td>2022</td>\n",
              "      <td>0</td>\n",
              "      <td>0</td>\n",
              "      <td>0</td>\n",
              "    </tr>\n",
              "    <tr>\n",
              "      <th>1</th>\n",
              "      <td>564</td>\n",
              "      <td>9</td>\n",
              "      <td>2022</td>\n",
              "      <td>0</td>\n",
              "      <td>0</td>\n",
              "      <td>0</td>\n",
              "    </tr>\n",
              "    <tr>\n",
              "      <th>2</th>\n",
              "      <td>1476</td>\n",
              "      <td>8</td>\n",
              "      <td>2022</td>\n",
              "      <td>0</td>\n",
              "      <td>0</td>\n",
              "      <td>0</td>\n",
              "    </tr>\n",
              "    <tr>\n",
              "      <th>3</th>\n",
              "      <td>374</td>\n",
              "      <td>7</td>\n",
              "      <td>2002</td>\n",
              "      <td>0</td>\n",
              "      <td>0</td>\n",
              "      <td>0</td>\n",
              "    </tr>\n",
              "    <tr>\n",
              "      <th>4</th>\n",
              "      <td>6094</td>\n",
              "      <td>9</td>\n",
              "      <td>2002</td>\n",
              "      <td>0</td>\n",
              "      <td>0</td>\n",
              "      <td>0</td>\n",
              "    </tr>\n",
              "  </tbody>\n",
              "</table>\n",
              "</div>\n",
              "      <button class=\"colab-df-convert\" onclick=\"convertToInteractive('df-2509c347-e7d4-4fba-b4c7-c15dd4aa5141')\"\n",
              "              title=\"Convert this dataframe to an interactive table.\"\n",
              "              style=\"display:none;\">\n",
              "        \n",
              "  <svg xmlns=\"http://www.w3.org/2000/svg\" height=\"24px\"viewBox=\"0 0 24 24\"\n",
              "       width=\"24px\">\n",
              "    <path d=\"M0 0h24v24H0V0z\" fill=\"none\"/>\n",
              "    <path d=\"M18.56 5.44l.94 2.06.94-2.06 2.06-.94-2.06-.94-.94-2.06-.94 2.06-2.06.94zm-11 1L8.5 8.5l.94-2.06 2.06-.94-2.06-.94L8.5 2.5l-.94 2.06-2.06.94zm10 10l.94 2.06.94-2.06 2.06-.94-2.06-.94-.94-2.06-.94 2.06-2.06.94z\"/><path d=\"M17.41 7.96l-1.37-1.37c-.4-.4-.92-.59-1.43-.59-.52 0-1.04.2-1.43.59L10.3 9.45l-7.72 7.72c-.78.78-.78 2.05 0 2.83L4 21.41c.39.39.9.59 1.41.59.51 0 1.02-.2 1.41-.59l7.78-7.78 2.81-2.81c.8-.78.8-2.07 0-2.86zM5.41 20L4 18.59l7.72-7.72 1.47 1.35L5.41 20z\"/>\n",
              "  </svg>\n",
              "      </button>\n",
              "      \n",
              "  <style>\n",
              "    .colab-df-container {\n",
              "      display:flex;\n",
              "      flex-wrap:wrap;\n",
              "      gap: 12px;\n",
              "    }\n",
              "\n",
              "    .colab-df-convert {\n",
              "      background-color: #E8F0FE;\n",
              "      border: none;\n",
              "      border-radius: 50%;\n",
              "      cursor: pointer;\n",
              "      display: none;\n",
              "      fill: #1967D2;\n",
              "      height: 32px;\n",
              "      padding: 0 0 0 0;\n",
              "      width: 32px;\n",
              "    }\n",
              "\n",
              "    .colab-df-convert:hover {\n",
              "      background-color: #E2EBFA;\n",
              "      box-shadow: 0px 1px 2px rgba(60, 64, 67, 0.3), 0px 1px 3px 1px rgba(60, 64, 67, 0.15);\n",
              "      fill: #174EA6;\n",
              "    }\n",
              "\n",
              "    [theme=dark] .colab-df-convert {\n",
              "      background-color: #3B4455;\n",
              "      fill: #D2E3FC;\n",
              "    }\n",
              "\n",
              "    [theme=dark] .colab-df-convert:hover {\n",
              "      background-color: #434B5C;\n",
              "      box-shadow: 0px 1px 3px 1px rgba(0, 0, 0, 0.15);\n",
              "      filter: drop-shadow(0px 1px 2px rgba(0, 0, 0, 0.3));\n",
              "      fill: #FFFFFF;\n",
              "    }\n",
              "  </style>\n",
              "\n",
              "      <script>\n",
              "        const buttonEl =\n",
              "          document.querySelector('#df-2509c347-e7d4-4fba-b4c7-c15dd4aa5141 button.colab-df-convert');\n",
              "        buttonEl.style.display =\n",
              "          google.colab.kernel.accessAllowed ? 'block' : 'none';\n",
              "\n",
              "        async function convertToInteractive(key) {\n",
              "          const element = document.querySelector('#df-2509c347-e7d4-4fba-b4c7-c15dd4aa5141');\n",
              "          const dataTable =\n",
              "            await google.colab.kernel.invokeFunction('convertToInteractive',\n",
              "                                                     [key], {});\n",
              "          if (!dataTable) return;\n",
              "\n",
              "          const docLinkHtml = 'Like what you see? Visit the ' +\n",
              "            '<a target=\"_blank\" href=https://colab.research.google.com/notebooks/data_table.ipynb>data table notebook</a>'\n",
              "            + ' to learn more about interactive tables.';\n",
              "          element.innerHTML = '';\n",
              "          dataTable['output_type'] = 'display_data';\n",
              "          await google.colab.output.renderOutput(dataTable, element);\n",
              "          const docLink = document.createElement('div');\n",
              "          docLink.innerHTML = docLinkHtml;\n",
              "          element.appendChild(docLink);\n",
              "        }\n",
              "      </script>\n",
              "    </div>\n",
              "  </div>\n",
              "  "
            ]
          },
          "metadata": {},
          "execution_count": 207
        }
      ]
    },
    {
      "cell_type": "code",
      "source": [
        "# x and y for training\n",
        "ydf = df['Booked_Qty']\n",
        "xdf = df[[\"Business Unit Val\", \"Product Family Val\", \"PLID Val\", \"month\", \"year\"]]\n",
        "\n",
        "# some stats\n",
        "print(xdf[\"year\"].unique())\n",
        "print(xdf[\"month\"].unique())\n",
        "\n",
        "# convert to numpy\n",
        "y = ydf.to_numpy()\n",
        "x = xdf.to_numpy()\n",
        "\n",
        "# save the numpy into pickle\n",
        "fx = open(\"x_data.pickle\", \"wb\")\n",
        "fy = open(\"y_data.pickle\", \"wb\")\n",
        "\n",
        "pickle.dump(x, fx)\n",
        "pickle.dump(y, fy)\n",
        "\n",
        "fx.close()\n",
        "fy.close()\n",
        "\n",
        "print(x, y)"
      ],
      "metadata": {
        "colab": {
          "base_uri": "https://localhost:8080/"
        },
        "id": "YKHtumqqBDd2",
        "outputId": "e63a7dbf-4b39-4562-e67e-fdc92b45c2b5"
      },
      "execution_count": null,
      "outputs": [
        {
          "output_type": "stream",
          "name": "stdout",
          "text": [
            "[2022 2002 2008 2007 2011 2012 2015 2014 2013]\n",
            "[ 7  9  8 11  0 10  3  1  2  6  5  4]\n",
            "[[   0    0    0    7 2022]\n",
            " [   0    0    0    9 2022]\n",
            " [   0    0    0    8 2022]\n",
            " ...\n",
            " [  17   72  249    6 2012]\n",
            " [  17   72  249    5 2012]\n",
            " [  17   72  249    4 2012]] [ 204  564 1476 ... 1231  591  601]\n"
          ]
        }
      ]
    },
    {
      "cell_type": "markdown",
      "source": [
        "## <i><u>TRAINING</u></i>"
      ],
      "metadata": {
        "id": "-pNGN3GhHLY9"
      }
    },
    {
      "cell_type": "code",
      "source": [
        "# imports\n",
        "from sklearn.model_selection import train_test_split\n",
        "from sklearn.linear_model import LinearRegression\n",
        "from sklearn.metrics import mean_squared_error, r2_score"
      ],
      "metadata": {
        "id": "Sn1FFsuNH0LG"
      },
      "execution_count": null,
      "outputs": []
    },
    {
      "cell_type": "code",
      "source": [
        "# load data\n",
        "fx = open(\"x_data.pickle\", \"rb\")\n",
        "fy = open(\"y_data.pickle\", \"rb\")\n",
        "\n",
        "x = pickle.load(fx)\n",
        "y = pickle.load(fy)\n",
        "\n",
        "fx.close()\n",
        "fy.close()"
      ],
      "metadata": {
        "id": "CDo8xMwtClKU"
      },
      "execution_count": null,
      "outputs": []
    },
    {
      "cell_type": "code",
      "source": [
        "# split the data\n",
        "x_train, x_test, y_train, y_test = train_test_split(x, y, test_size = 0.2)"
      ],
      "metadata": {
        "id": "mTkrlK4cG4iD"
      },
      "execution_count": null,
      "outputs": []
    },
    {
      "cell_type": "code",
      "source": [
        "# linear regression \n",
        "LR = LinearRegression()\n",
        "LR.fit(x_train, y_train)"
      ],
      "metadata": {
        "colab": {
          "base_uri": "https://localhost:8080/",
          "height": 75
        },
        "id": "rHdRMLVDIWNo",
        "outputId": "0386bb5b-030d-439d-906e-7851ab62cc81"
      },
      "execution_count": null,
      "outputs": [
        {
          "output_type": "execute_result",
          "data": {
            "text/plain": [
              "LinearRegression()"
            ],
            "text/html": [
              "<style>#sk-container-id-6 {color: black;background-color: white;}#sk-container-id-6 pre{padding: 0;}#sk-container-id-6 div.sk-toggleable {background-color: white;}#sk-container-id-6 label.sk-toggleable__label {cursor: pointer;display: block;width: 100%;margin-bottom: 0;padding: 0.3em;box-sizing: border-box;text-align: center;}#sk-container-id-6 label.sk-toggleable__label-arrow:before {content: \"▸\";float: left;margin-right: 0.25em;color: #696969;}#sk-container-id-6 label.sk-toggleable__label-arrow:hover:before {color: black;}#sk-container-id-6 div.sk-estimator:hover label.sk-toggleable__label-arrow:before {color: black;}#sk-container-id-6 div.sk-toggleable__content {max-height: 0;max-width: 0;overflow: hidden;text-align: left;background-color: #f0f8ff;}#sk-container-id-6 div.sk-toggleable__content pre {margin: 0.2em;color: black;border-radius: 0.25em;background-color: #f0f8ff;}#sk-container-id-6 input.sk-toggleable__control:checked~div.sk-toggleable__content {max-height: 200px;max-width: 100%;overflow: auto;}#sk-container-id-6 input.sk-toggleable__control:checked~label.sk-toggleable__label-arrow:before {content: \"▾\";}#sk-container-id-6 div.sk-estimator input.sk-toggleable__control:checked~label.sk-toggleable__label {background-color: #d4ebff;}#sk-container-id-6 div.sk-label input.sk-toggleable__control:checked~label.sk-toggleable__label {background-color: #d4ebff;}#sk-container-id-6 input.sk-hidden--visually {border: 0;clip: rect(1px 1px 1px 1px);clip: rect(1px, 1px, 1px, 1px);height: 1px;margin: -1px;overflow: hidden;padding: 0;position: absolute;width: 1px;}#sk-container-id-6 div.sk-estimator {font-family: monospace;background-color: #f0f8ff;border: 1px dotted black;border-radius: 0.25em;box-sizing: border-box;margin-bottom: 0.5em;}#sk-container-id-6 div.sk-estimator:hover {background-color: #d4ebff;}#sk-container-id-6 div.sk-parallel-item::after {content: \"\";width: 100%;border-bottom: 1px solid gray;flex-grow: 1;}#sk-container-id-6 div.sk-label:hover label.sk-toggleable__label {background-color: #d4ebff;}#sk-container-id-6 div.sk-serial::before {content: \"\";position: absolute;border-left: 1px solid gray;box-sizing: border-box;top: 0;bottom: 0;left: 50%;z-index: 0;}#sk-container-id-6 div.sk-serial {display: flex;flex-direction: column;align-items: center;background-color: white;padding-right: 0.2em;padding-left: 0.2em;position: relative;}#sk-container-id-6 div.sk-item {position: relative;z-index: 1;}#sk-container-id-6 div.sk-parallel {display: flex;align-items: stretch;justify-content: center;background-color: white;position: relative;}#sk-container-id-6 div.sk-item::before, #sk-container-id-6 div.sk-parallel-item::before {content: \"\";position: absolute;border-left: 1px solid gray;box-sizing: border-box;top: 0;bottom: 0;left: 50%;z-index: -1;}#sk-container-id-6 div.sk-parallel-item {display: flex;flex-direction: column;z-index: 1;position: relative;background-color: white;}#sk-container-id-6 div.sk-parallel-item:first-child::after {align-self: flex-end;width: 50%;}#sk-container-id-6 div.sk-parallel-item:last-child::after {align-self: flex-start;width: 50%;}#sk-container-id-6 div.sk-parallel-item:only-child::after {width: 0;}#sk-container-id-6 div.sk-dashed-wrapped {border: 1px dashed gray;margin: 0 0.4em 0.5em 0.4em;box-sizing: border-box;padding-bottom: 0.4em;background-color: white;}#sk-container-id-6 div.sk-label label {font-family: monospace;font-weight: bold;display: inline-block;line-height: 1.2em;}#sk-container-id-6 div.sk-label-container {text-align: center;}#sk-container-id-6 div.sk-container {/* jupyter's `normalize.less` sets `[hidden] { display: none; }` but bootstrap.min.css set `[hidden] { display: none !important; }` so we also need the `!important` here to be able to override the default hidden behavior on the sphinx rendered scikit-learn.org. See: https://github.com/scikit-learn/scikit-learn/issues/21755 */display: inline-block !important;position: relative;}#sk-container-id-6 div.sk-text-repr-fallback {display: none;}</style><div id=\"sk-container-id-6\" class=\"sk-top-container\"><div class=\"sk-text-repr-fallback\"><pre>LinearRegression()</pre><b>In a Jupyter environment, please rerun this cell to show the HTML representation or trust the notebook. <br />On GitHub, the HTML representation is unable to render, please try loading this page with nbviewer.org.</b></div><div class=\"sk-container\" hidden><div class=\"sk-item\"><div class=\"sk-estimator sk-toggleable\"><input class=\"sk-toggleable__control sk-hidden--visually\" id=\"sk-estimator-id-6\" type=\"checkbox\" checked><label for=\"sk-estimator-id-6\" class=\"sk-toggleable__label sk-toggleable__label-arrow\">LinearRegression</label><div class=\"sk-toggleable__content\"><pre>LinearRegression()</pre></div></div></div></div></div>"
            ]
          },
          "metadata": {},
          "execution_count": 212
        }
      ]
    },
    {
      "cell_type": "markdown",
      "source": [
        "## <i><u>TESTING</u></i>"
      ],
      "metadata": {
        "id": "W-_t7qFkI2Og"
      }
    },
    {
      "cell_type": "code",
      "source": [
        "f = open(\"numerifications.json\", 'r')\n",
        "num = json.load(f)\n",
        "num_order = [\"Business Unit\", \"Product Family\", \"PLID\"]\n",
        "f.close()"
      ],
      "metadata": {
        "id": "scO23LZ9I7w5"
      },
      "execution_count": null,
      "outputs": []
    },
    {
      "cell_type": "code",
      "source": [
        "y_pred = LR.predict(x_test)\n",
        "print(list(y_pred))"
      ],
      "metadata": {
        "colab": {
          "base_uri": "https://localhost:8080/"
        },
        "id": "kC1adf93cra9",
        "outputId": "ff81cf6a-1099-4b36-c11f-a0097cd144c9"
      },
      "execution_count": null,
      "outputs": [
        {
          "output_type": "stream",
          "name": "stdout",
          "text": [
            "[2173.1278788057098, 12196.082984590175, 2372.493891333812, 11580.3065677126, 20215.39299727697, 6926.9561708008405, 956.9561128513596, 8372.913701015234, -2571.5627919299877, 16309.518256874551, 6203.94709120554, 16850.699890531658, 18943.149364388984, 6514.321762959764, 11445.85361720511, 19319.9110851961, 1203.6367814882833, 3388.61353229222, 16888.965083896648, 918.4970691066119, 9699.75932723665, 1102.1899394235224, 17063.88112468965, 19369.92308808706, 16322.881376217934, 19637.66326885004, 9618.18537102046, 3713.6575794120145, 2396.9567676248553, -1342.5212326684268, 2354.0651606027386, 6437.79209929661, 7816.222578688845, 3332.787389554607, 1227.0762722345826, 10689.387426792557, 3090.050035627093, 1497.144180956384, 16471.703126522538, 5219.292605383438, 6860.943953915383, 2341.6727752556617, 4227.003892517765, 15732.681305221951, 12361.460039777565, 18694.806448529358, 2717.088929899066, 19053.010330633988, 9635.528951354703, 19465.592900622694, 16546.632307815074, 17834.486218150123, -1935.9620273201726, 12831.410805722291, 9567.461949988094, 12915.514067452837, 9647.950755807455, 19318.69682682783, 7697.898950147297, 13887.295746447635, 18748.396860962064, 13752.469063684752, 20926.256916520186, 17749.542430306756, 6615.468029456068, 3651.5474534863024, 2182.8342185762303, 2853.4675569162355, 2952.9887224712875, 5387.9413041312655, -279.0218829351652, 17862.672439401154, 777.7035839030577, -991.9310724688403, 3086.212310230476, 6097.305529781646, 15783.404726254317, -1038.1807064741733, 6271.173566459271, 10860.927735511388, 9260.592118279514, 2098.625367532921, 2539.241532142594, 2632.1451420556696, 16088.959510816872, 2721.572231116763, 100.94043769006385, 3653.200186518341, 4425.888796462736, 18999.908030893363, 3072.1528771256853, 9449.138321446546, 2047.772838529112, 6191.049665807601, 2499.84996463111, -349.4556361862051, -3216.5675337269495, 19858.274265569198, -78.02042965692817, 1206.0104468523932, 1083.2583684655838, 18783.01927922218, 1292.9347625779337, 6852.882655965048, 4091.555188556318, 3429.320146949758, 1667.2267428988125, -525.4391222850827, 18082.01692709059, 947.5911595898215, -76.8061712886265, 3062.0588006317266, 16564.34962040471, 3749.6321551357396, 12009.033187202062, 19742.379153764225, 10748.91119600748, -3029.465485677385, 692.9223496895283, 456.92176833955455, 5307.480817505595, 829.7030281558109, 8099.123547245457, 5220.353137209633, 19312.892578017025, 5015.48043791909, 20801.15940508357, -497.70720314458595, -2631.3164578940778, 19068.801966713916, 6714.57835243814, 19045.810464822018, 10954.944815014984, 846.8557356664969, 13218.588084617339, 18526.133131210867, 16544.2037910785, 2873.8727020973456, 2909.1771193931927, -1531.4411680909107, 2421.291635856469, 2038.6749282982491, 1217.8738726029405, 12891.863398080954, -1254.6773336960177, 929.8738470001845, 11843.837490647536, 3147.6110180147807, 2535.4409170635045, 4506.751334537519, 19265.91862131431, 16733.022937723203, 143.27805373587762, 7233.222373504803, 12857.643031269952, 9463.485802409006, 20665.492196207808, -2911.0127491644234, 10247.506265874283, 5252.878824172134, 1565.7799008340808, 2830.2189389934647, 14421.835892995005, 1291.6656528371968, -1617.0963740757143, 10452.98479399347, 3548.886353053269, -2657.7208381416567, 4574.867973932443, 534.6561761803168, 16765.317628024524, 2932.102743000869, -2331.1796981400403, 3663.645576521056, 18003.159535468614, 6821.931332003442, 11664.036097187694, 9648.609923287411, 5682.18775383156, 3030.253322934499, 2503.146226762212, 18976.86689097315, 14522.57131691833, 6073.124388092139, 16876.27623641325, 20427.489081038104, 16611.933106559125, 2370.568214824103, 10300.814530896343, 6249.475792878773, 17641.35002454059, -3213.427598848968, 14395.31823222281, 3021.4294560932904, -3834.82471800255, 7581.616927237104, 2110.5656505934603, 6866.929561359051, 1155.2870258200273, 16004.015722973476, 14565.306596687326, 5214.448099621077, -557.7003669279511, 2157.839082952647, 1861.5113165924267, 8880.14791133898, 5981.281310005259, -1406.8475967931445, 15217.085221379413, 7052.608773125772, 19097.24530399582, 15690.099064892129, 4474.4566442361975, 10769.768443475128, 15234.80253396905, 10784.345821186784, 6895.164320726384, 17367.185038603377, 3240.1408956724044, 5785.28691611925, 6289.832193939539, 2975.3195441620774, 3365.793497997336, 4688.2054610294, 12646.945852323872, 1597.7781289990526, -197.28537308907835, 336.84023026228533, 3465.8682417195814, 16978.225918704848, 3612.3409452307096, 2562.4121928433597, -3536.69969600116, 20028.06105247821, 18176.316154004802, 16942.791293525544, 2776.3555830831174, 18613.943910454575, 1076.8316856471647, 3791.531709326897, 15536.9874869044, 12228.377674891468, -209.8697311716969, 18865.908282584423, 16725.82307191126, 6816.708980553551, 2283.090320931369, 623.540301176894, 3019.6836254953814, 18314.038147361716, -2484.4575303806632, -2316.4956312035793, 6244.913021717948, -3132.8380042518547, 18951.563488569227, 1954.9700173938181, 16875.564818271814, 2856.0251816242526, 7113.346800708969, 7319.380419716472, 22728.21970885183, 4625.591394964809, 1429.1294302512251, 18948.423553691246, 17816.768905560486, -2453.3399521661922, 111.79557035374455, 15413.763401316042, 14524.496993428038, 4875.9394572772435, 9293.971958977665, 13605.94672214528, 4017.840265632054, 11648.747301334632, 19097.374411967263, 3904.3887749436544, 16305.912628051155, -896.5801408161933, 3629.9280499369197, 4323.227696029702, 16511.19768263577, 11521.068233722239, 16910.999443451117, 3387.902114150813, -1801.5613274741336, 19228.47884968217, 743.6457707218942, -906.987284625473, 2232.2377919275605, 19257.90654858318, 18428.666750136967, 17357.416156248568, 4424.623387345026, 612.170201462548, -3063.18301226155, 6209.478396538645, 3449.092244020547, 797.3465730024036, 4469.542559566587, 8477.356642451748, 2509.3481392961985, 2209.57038426277, 6566.970860501839, -2399.513742537267, 1666.2188626210846, 17536.131299399538, 19314.134055666975, -1010.1857708558091, 7588.463966819167, 15267.80864241178, 3339.68667979812, 882.7932010726654, 10785.057239328191, 931.088105368457, 2893.7455879458867, 3741.519706435938, 1946.650090691488, 10044.61258174479, 16672.67113414232, -2131.2821133823018, -137.25876364728902, 17717.247740005434, -950.5108398458688, 2082.8337314529927, 19004.341694082745, -3578.7790961040882, 15148.644487757381, -3648.434088094393, 1986.6088280290423, 9836.214811563841, 3477.757786839793, -705.3078588642529, 3171.6217920192867, 19517.027739796496, -1402.2624068856821, 2855.4439713662723, -2434.4455274897045, 19752.292971537303, 3561.4873163148877, 2976.403594646923, 16951.628787989554, -1410.1214401776087, -396.2603610798542, -1700.1144854094018, 7335.883473937836, -2351.0525839885813, 3943.7019724240236, 19035.02007456665, 6709.485108959692, 10480.716713133937, 19414.86947959033, 3849.878366454999, 2804.087502223585, -855.5524454516708, 18850.24575447591, 16327.235569464217, 2516.3530188524746, 6284.407577831211, 19135.575239769096, -952.4365163555776, 6810.931951024424, 4249.888705184858, 4565.56478552302, 1477.399715976353, 13521.843460414762, 18733.510116558085, 18916.128863389924, 15714.963992632314, 2465.3975012468873, 19248.201308724674, 4041.2702421876893, 2616.3535059757123, 18803.603583212127, 44.56909510001424, -1799.2096680475515, 5394.350281858671, 18595.285282974306, 19723.720526283956, -228.2984619027702, -329.7453039675311, 12142.774719568115, 4371.689954490401, 4737.3769378075085, 1057.059588576376, 15884.851568319078, 16155.860791931482, 9733.553711130808, 18816.025387664908, 1068.6809907539282, 2081.9932053401426, 549.065421994892, 19146.754466659913, 4949.468221033632, 14354.609417741274, 15614.731408935826, 7070.611520939972, 9885.723974227934, 2619.6225488251366, 2725.9127967402455, -2150.4866278179106, 3129.1822872837074, 2220.208524733229, 6231.758480289136, 6444.639138878672, -556.4861085596494, 7062.623379676603, -333.66400010624784, 5354.094669575687, 16798.323736467253, 1837.860647220543, 6598.051292434888, 19202.801715022855, 6546.11361303422, 3824.5378177696257, 19144.828790150204, 18750.724588920857, 3529.192626013595, 17942.859982549155, 17572.507239469443, 8138.9918356141425, 21348.547339000565, 3043.6300699006533, 11028.607487277797, 5422.161670942267, 1379.3892709259235, 8146.421598175308, -1097.9218806914287, 1884.502818484325, -1221.8452575973934, 4926.610627648188, 2476.0963066574477, 6802.159234932653, 19435.935304972518, 3382.2965522187005, 2072.8952951092506, 3145.076911965414, 8906.794680082618, 17986.65648124725, 2486.6431725408474, -558.2377527252538, 1610.3132139764493, 2393.6104546563292, -2249.6057419238205, 16644.939215001825, 4050.846374074783, 6065.010839480354, 18072.311687232053, -889.7728122626722, 5235.161511582497, 19350.862409157708, 20079.725788401207, 12444.05216819438, 10802.06313377642, 759.2075100526563, 4607.874082375172, -52.314975803892594, 17885.921057323925, -220.27687498097657, 6241.79770541063, 1142.0033764197724, 13390.631233563035, 18847.737767796236, 18663.726016596338, 16258.794835842185, -3450.541649789462, 10920.013030062546, 3669.7032407397055, 15749.895777584723, 882.2903608458, 14488.350950107328, 3594.4934247576166, 16995.943231294514, 3309.44677397795, 3685.767820297333, -232.2171580415161, 2311.0172263275017, 4128.346771734214, -2997.1707953760924, 6345.145605414407, 253.51462988049025, 1187.1337272669189, 3554.4176583863737, 1193.94105582044, 3391.599740628124, -1012.9780928480322, 1117.4787352765852, 3112.7822216641216, 18897.70013265885, -3316.8001174234087, 4586.758618964639, 827.7490324524406, 7467.273346877308, 723.061466731946, 19875.890789381083, 16807.12408464981, 15132.414377013687, 5879.834467940498, 9233.945349535876, 2535.893019350042, 5664.470441241923, 1016.0318932118535, 18520.810403792304, 1957.8789556105912, 1.6679738872335292, 21247.100496935804, -154.73145195294637, -230.1906927540549, 1810.658787588618, 433.209334115556, 2691.411795239721, 10738.89658945665, 4372.904212858673, 2425.5307255992957, 14269.665629897878, 2952.3280422702082, 2667.0769270081073, 7147.567167519999, 1540.6582219861448, -737.6025491655455, -1093.3779145336011, 11921.452304707549, 15613.517150567553, 134.78707224564278, -1342.5212326684268, 12486.076029821968, 4238.283908186306, 3635.482873928704, 2789.5101245119295, 6900.438510028645, 3479.683463349502, 7683.063769301865, 3613.4249957155553, 6877.447008136747, 5433.844837971934, 1255.132285602158, 5341.7011843165965, 4305.409594662284, 12476.346858495672, 10583.377813567, 15664.24057159992, 937.1840157805418, -297.4171680077852, -2834.2101420235995, 18954.83253141865, -967.0138940672332, 17856.18399173062, 2665.073293276393, 5845.056822339277, 14267.739953388169, 8454.187494472077, 19334.488462907757, 1818.3891257182113, 1437.1175715145946, 1002.6687738684705, 9879.661509474274, -2052.826773209439, 10114.849883905088, 814.3524674506334, 16757.614921985718, 19027.590312005515, 12595.381905178656, 5392.4246053489915, 3275.9356254843588, 3179.402868089208, 3494.9722592025646, 19200.035512400296, 15943.936862870236, 17096.175814990973, 3628.132581310667, 6716.9148715208285, 19263.41063463461, -686.8791281331796, 16739.897609396052, -1459.6707266793528, 151.66385872242972, 8103.686318406282, 15334.093802774907, 2080.3916230575414, 2091.4777523824305, 3542.723099521856, 4659.811761775811, 20841.31312867682, -130.77031597675523, -1331.381029703276, 5297.466210954764, 8251.293810342584, 3350.5047021442733, 9541.941142581869, 724.9871432416548, 2818.7156178755686, 1546.5518677398213, 1430.1126919583185, 943.6724634511047, 5870.531279531075, -833.2723617011798, 4344.242370662454, 380.3921046764008, 15361.825721915375, 3967.2224339124514, -2587.792902673682, 18995.79846193106, 1479.325392486062, 18562.279174531577, 766.3268060094852, 1310.6520751675707, 1427.862921221502, 10282.38580016527, 7097.5551646290405, 4153.340120342909, 3735.2769829614263, 20047.93393832675, 18902.183433876577, 5963.563997415593, 1733.4453378748149, 3597.633359635627, 4456.027913505153, 18914.25282490853, -339.55243251580396, 18250.690244409052, -1137.6128878954332, 14624.729577124497, 19213.980941913644, 16427.195209683006, 2628.2665697545744, 3581.490410046885, 1759.935366556223, 4891.832982046966, -458.9240651727596, 18352.137086473813, 3286.455272086052, 7758.3515425059595, 3748.417896767438, 4846.913809825375, 2800.2868871444953, 9060.050093576574, 6691.767796370026, 354.55754285195144, -187.982184679684, 3891.528495827137, 2994.8323253779963, 3816.85863038947, -3027.748387082247, -848.2757223297085, 9943.16573968003, 6057.308133441518, -276.88872842289857, 11308.030835070473, 4470.152089018258, 6201.643981817382, 6913.5930514574575, 18245.46830576827, 10520.2112692472, 19702.706951563217, 1023.3420619922399, 11927.940752378083, 2463.1874894246284, 3543.7700037252507, 1796.7038438845775, 1819.3028085180558, 2922.037398509681, 2843.862693026371, 5197.945045399712, 2347.6797015339835, 3692.010543771845, 16900.984836900287, -3115.1206916621886, 3788.8673953941034, 6331.20017590106, 18752.88016217976, 1631.697920241626, 17817.480323701893, 3057.7046073854435, 247.46277922950685, 4964.757016886695, 3053.77488433494, 13921.090130341792, 912.6928202958079, 3213.6232349002094, 3138.6940536076727, -520.0546300144051, -1220.6309992291208, 10317.820425344573, 18681.572437157418, 3646.971054702706, 934.2280402464385, -4358.23678840854, 3526.685739245906, -603.8610167994921, 3875.2612388019916, 4188.439259460254, 4344.953788803861, 16951.708257932652, 3059.527295293403, 3326.6590465167246, 4237.948422124347, 17894.967129702447, 2807.4867529564654, 5747.488552575611, 6335.130998863577, 19793.10257479659, 16910.496603224252, 11391.04894640416, 12162.703143892024, 3731.9148425460735, 13984.17981735157, 185.51049327803776, 14329.033071859682, 4806.88919420357, 3816.85863038947, 2243.7907510737714, 4940.270621937001, 18854.327004244522, 2262.2194818048447, 2601.296806695871, 930.0364006300515, 5449.636474051891, 2958.080453228642, 1377.1917508505576, 862.8099253762921, 2662.759880043275, 18453.583928538574, 16597.35572884744, 10451.059117483761, 1360.1063864592288, 1783.8681833387527, 3894.9042279013665, 19262.77868643633, 19617.76316371982, 9727.491246377147, 5700.643703844311, 2943.1539618322277, 2140.524921724107, 18955.773846309254, 10031.8317725714, 15352.752430255176, -1818.8526571469265, -161.74995913202292, 2831.4331973617664, 3644.6356355320313, 14371.112471962639, -170.2648720900179, -4377.168359366478, 1830.924210695579, 20302.39156960149, -3059.913969412097, -1499.146477789589, 18462.887116947968, 17918.215747625247, 18892.42594335662, 6732.476610851561, -3528.0556750717224, 3416.411329716939, 1171.7900800413918, 3856.366814125504, 2867.5133623982547, -451.61389639237314, -4341.022316045768, 8626.530806177092, 12568.49051215101, 896.9295034095703, 6936.584553349356, 19809.605629017955, 1191.4879205131729, 12932.017121674202, 1785.0824417070253, -1941.2763404600846, 9143.068204910262, -2640.0035255519906, 6879.372684646456, 1167.1504515705456, 3618.9798197073396, 1937.6312375946145, 1915.3250344744592, 14276.154077568412, -3092.2086597134185, 19198.821254031995, 4050.240545246139, 4609.693069660076, 3292.078575073072, 5819.507282930252, 10434.556063262396, 832.0697800402704, 5445.073702891066, -1208.0682821609662, 6581.520606122736, 2742.41585096161, 13314.387005124445, -1008.4341266902047, 15666.166248109628, 13166.779513188143, 19198.69214606058, 3110.962134467176, 20291.82187216234, 3041.201553164108, 1736.4138051558111, 4536.769034820347, 31.788285926624667, 17708.57649979432, 4913.428866937698, 19320.040193167544, 12297.529826654907, 4549.0617313016555, 17350.681984382012, 6176.472288095916, 1348.0642147089238, 1658.1012005771627, 16594.21579396946, -3180.421490406239, 1700.0378650858765, 2808.441695469868, -1511.5682822423405, 19740.324369283102, 8269.722541073657, -17.38319085148396, 5960.4240625376115, 1541.8724803544173, -1614.7447146491322, 16983.923478290846, 6980.819526711217, 979.9476147432579, 16458.082891148282, 18778.535978004453, 19619.945956260402, 2575.3875754633045, 18011.300716171187, 6282.481901321502, 4391.668429651705, 19165.686037617852, 6895.8757388678205, 20342.545293194737, 17521.783818437078, 2089.398349330615, 4534.483253677987, -1963.0347789806838, 4590.027661814063, -2138.8557114496653, 2122.2760369048046, 3046.16417595002, 2821.804814813222, 15386.031482175546, 2742.41585096161, 12553.302505075699, 1615.4954415886896, 1094.4471095470362, -3434.0385955680977, -1376.7415994794574, 4466.883046168834, 2906.7486026566185, 2733.7718300322013, 4710.535182808206, 160.99536632554373, 18854.22621546674, 2769.7380274411407, 19535.002168417006, 6496.604450370127, 3059.6302838951524, 20139.651609065215, 2392.3961962880567, 1355.80704458541, 19852.899287489214, -3681.1672530594515, 15548.216351823532, 7046.8317435966455, -3250.787900537951, 6666.492026056891, 17193.964777570858, 10596.740932910354, 4813.505237124424, -3212.2133404806664, 2391.3103587882943, 2919.451041798893, 6581.548238213523, 6667.203444198327, 2717.800348040473, 16512.411941004073, 969.6626654257416, 5145.295947857638, 5320.105299425864, 11342.251201881474, 4314.712783071707, 4502.188563376694, 1562.8970819869428, 5917.376128262375, 991.166965471697, 1188.3479856351914, 6109.245812842186, 16746.386057066586, 5776.616088717245, 13735.125483350508, 184.6699671651586, 4707.266139958781, 19114.962616585457, 2472.015056888864, 13669.450952351064, 12397.89151832281, 2449.1265435987443, 4199.165284152492, 12536.799450854334, 1386.3941504822287, 176.810933873232, 2740.260277702706, 659.9162412467995, -2265.7722101712134, 440.4187141181901, 5387.331774679624, 19316.642042346677, 17514.808357986476, 14760.396786000289, 10972.66212760462, 4606.530716035428, 18801.448009953223, 2211.496060772479, 6321.8969874916365, 18098.519981311925, 2216.3431672458246, 18626.365714907326, 11046.477839306666, 21265.529227666877, 2495.05729672109, 4779.580645346839, 4338.683846047672, 1159.9925325750664, 9778.214667409513, 3753.7057136924705, 10146.059423809522, 12467.043670086248, 1780.972872744751, 18874.708630766952, 8403.46407343971, 1580.0608164094156, 15098.194010202657, 10539.142840205139, 12832.49595611915, 3837.9380833944597, 18769.282427623373, 6797.596463771828, 2138.9075119947083, -2055.9667080874206, 3016.8666849324654, 7105.334040874935, 2751.3092967100674, 777.0539306137362, 3763.1667420761078, 1327.1551293889352, 20875.53349548782, -2419.119585355191, 12567.64998603816, 4813.80101215787, 19315.93062420527, 1525.369426133053, 2336.2187400416587, 19112.534099848912, 7928.239118192723, 1261.2966390456131, -1968.2567176214943, 2071.681036740978, 2885.942093129328, 4254.78696240767, 1207.27955659313, 18612.729652086302, 18346.915147833002, 19246.275632214965, 4220.839539074339, 9445.057071677933, -2130.105001295451, 18307.500061662868, 2435.7399055967107, 4073.5921517706884, -2487.833262454864, -1068.2867037878896, 19217.249984763068, 11460.20109816757, 14575.220414460433, 12651.327264851803, 18907.71473920968, 2277.8683822905587, 4079.369181299786, -645.3820382002159, 7741.848488284595, 1026.1082646147988, 2190.7167705268366, 3370.184801561176, 13438.825349081075, 1222.5135010737577, 2802.212563654204, 19280.495999025967, 7619.443609974434, 19003.63027594131, 2384.408055024687, 4143.931342620723, 18647.352070346416, 2884.6907244434697, 135.56473359439406, 5201.575292793772, 2447.680188657221, 1354.2675920779875, -4628.859788018657, 3905.16455864819, -886.0104433770466, 1557.1612762075092, 7192.332613199484, 19432.586792179965, 18565.548217381, -1782.706613826187, 2991.9517063548847, 2974.686496051785, 969.2204901389778, 18466.208410458843, -1452.985827918048, 3392.4648853116378, 1439.211379921384, 4270.24311242564, 1143.3467427594878, -784.5636013123149, 5267.327093912347, 1872.9351677671948, 16961.220024256618, 14286.168684119242, 8704.986146349955, 12365.596828021517, 19875.991578158835, 2741.2152202161087, 6163.317746667104, 4812.586753789568, 18294.266050290928, 7868.497943975468, 9937.661653628602, 8019.116262818337, 19237.022081833857, 2373.7081497020845, 14582.65017702157, 3601.2625071176735, 4825.216036244878, 3026.172073165915, 11596.809621933964, 2587.378596464172, 3378.236621284741, 2648.648196277034, 11646.591728075728, 6806.1396959235135, 7716.32768087837, 10766.628508597118, 18945.204148870136, -3087.7749965240364, 19012.301516152424, 20241.098451129976, 17935.933060214884, 5745.133192526002, -46.66705424623797, 11706.618337517517, 3401.228123176639, -3110.6373904444918, 9534.082109289942, -1136.901469754026, 1759.5480426419235, -371.84712281712564, 2537.3665935732133, 10488.520207950525, 3864.4557441666548, 2638.000541615882, 6340.555614971905, 4368.705246953497, 16495.90888678271, -390.27585354819894, 1860.9948847066553, 933.0137818781659, -2316.7314283998276, 19977.337631445844, 16308.031055028609, 5660.189404682635, 5304.532168260252, 16419.76544712187, 11538.656438340433, -2656.233636295685, 5141.8977970367705, 13084.187384771329, 4342.159266987641, -1305.4007547284127, 19380.649112779298, 18894.351619866327, -3181.6357487745117, 19185.45813468864, -1076.4823230537877, 10715.905087564752, 1307.457288917154, 12481.994780053355, 9897.005089808488, 1630.7842374417814, 2260.293805295136, 18406.96897655647, 18904.109110386256, 13472.205189779226, 19398.366425368964, 5544.594868446118, 9878.576359077415, -1159.5004343874753, -710.4080158223805, 15648.448935519991, 15782.190467886045, 6818.662289154017, 3690.7962854035723, 793.5569848351006, 16357.101743028965, 1138.3359827442328, 18054.594374642416, 7748.622371179663, 3969.0288934865966, 18713.23517926043, 6061.870904602372, 9440.494300517108, -856.263863593078, 2742.135216272087, -484.7491128065449, 18870.729269688105, 18527.785864242906, 8878.881402309256, 20493.875030179013, 2756.051913782663, 14156.989922914014, -4578.136366986262, 19876.832104271714, 11729.609839409415, -2268.0344726548938, -3614.2137212833914, 1763.1547713773325, 10615.169663641427, 1831.6962937771168, -1242.2886489719676, 19501.738943943405, 18921.553479498252, 8658.825496478414, 1592.5959013867832, 2181.5143708951655, 4496.412633759581, 1513.5457592970924, 2380.16937809097, 2096.570583051798, 1291.0090860682249, -119.67055902906577, -3009.3196563511738, 6714.759298261924, 3077.3475964848185, 234.68197005611728, 20790.589707644423, 4711.139911724837, 15784.618984622619, 19037.85064275234, 1118.6929936448869, 7825.57801775969, 6167.423615006381, -4206.066525311413, 662.8936224949139, 6464.309760068805, 1022.8392217653745, 3662.6335828111914, -2255.7204573389317, 3522.122968085081, 21815.020484181325, 3043.127229673788, 2257.943245780567, 15817.625093065348, -678.113325521088, 15164.206227088114, 6233.684156798845, 10400.335696451395, 18730.24107370866, 4231.459974453814, 3661.719900011347, 591.4755076247675, 7965.382014879404, 2958.945597912156, 1529.4388712577056, 4483.759832645621, 7554.243600008165, 7004.727724923054, 18909.64041571939, 3273.30073065724, 873.9380015176721, 8794.77814057871, 2156.6248245843453, -3285.0082673489815, 3130.0239133085706, 5826.682530171558, -2367.2190522359742, 14606.300846393424, 19837.23675938067, 6578.380671244755, 10216.29672596982, -1102.6811029429955, -2875.5781239851203, 3109.8732834473194, 6764.060295820556, 1362.7434811103449, 17724.67750256657, 4455.703819278046, 18196.69778052726, 2776.6362177726405, -1108.7770133551094, 20332.502367450215, -313.24224974616664, -187.38216941867722, 14818.923701849213, 3833.3616846108343, -671.0874920532224, -602.4727260870859, -3275.379884800437, 2135.3798403932888, 18367.799614582327, 19758.781419207808, 5566.190753336821, 1169.4164146772528, 4192.072107565327, 4520.875510050624, 10178.354114110844, 1558.3755345757818, 18960.86667697865, 16814.826790688618, -246.69374697541934, 14470.63363751769, 4204.063541375304, 3337.890111259854, 19758.88220798559, -3716.874821716425, -2605.510215263319, 2802.0327177424333, 5400.838729529205, 744.6974754603289, 3461.3849405018846, 11513.08009245884, 13618.727531318698, 10825.054635668319, 4440.130688112433, -2401.4394190469757, 1113.0325803403393, 18227.039575037197, 19896.604201342503, 1930.663468355866, -1199.3687227561604, 12401.132241978572, 4632.079842635343, 10589.967050015286, 4350.37840491219, 2223.7228789695655, 3876.4754971702932, 11655.894916485122, 5410.1419179386285, 226.3200965373253, -1816.9269806372176, 1970.105773807678, 3851.610569430137, 1086.3983033435652, 1750.8620748960238, 13466.557268221572, 14557.503101870767, -3129.195229146979, 643.250633395568, 3662.9341583796486, -3478.273568929959, 19498.599009065423, 10653.952801613283, 2840.7363857711607, 3618.038504816708, 981.8115264008229, 6696.330567530851, 10502.996796884428, 3809.249021916534, 18896.40640434745, 3593.446520554222, 9160.411785244505, 14253.162575676513, -263.1968011967838, 19296.99905324733, 1307.009300062724, 1362.886216704559, 1170.6306730455544, 1074.0654830246058, 19809.605629017955, 156.22662988328375, 19704.8897441038, 5292.9034397939395, 11157.12708100307, 730.1200977486733, 1111.0520524581661, 5398.913053019525, 18582.051271602366, 9200.565508837724, -1565.2878026464896, 1356.5791276669188, -332.57884970941814, 118.28401802427834, -2994.030860498082, 18317.91671966281, 2727.5578385604313, 6614.554346656252, 2132.1107975438645, 7164.070221741364, 7089.671512766421, 1287.366310963378, 17034.64689932324, 2105.77298268344, 4772.137255162903, 6631.02976878683, 3106.5530898484576, 17148.11349439164, 12107.842934615677, 405.684892977617, 7790.042603802634, 1895.6025754319853, -230.1906927540549, 6400.352327664499, 14641.232631345862, 65.6349204822036, 1277.9424288611917, 8874.499989781325, 202.79120884812437, 9446.142222074792, -2756.503366273595, 15718.103927510296, 15317.590748553543, 14444.827394886903, -3080.18890670978, 6470.086789597932, 18070.386010722374, 18964.92660791261, 20443.151609146647, 3830.235377355624, 577.9498346515466, 5611.8213436998485, -3392.11552271829, 2008.602376642957, -764.5461928546138, 1392.4010767605214, 3176.8687620398705, -2156.199291783909, -331.7383235965681, 4690.763085737417, 302.74897142272675, 507.6451893719204, 12061.682284744136, 2719.0146064087457, 18957.828630790405, 10385.046900598303, 18917.47222972964, 14311.689491525467, 2991.1895502731495, 8829.424490306614, 4841.719090466242, -2775.345540288661, 2740.080431790964, 14608.226522903162, 2939.7547110993473, 16359.027419538645, -2190.4196585949103, 1276.4317083565693, 1003.5699649214221, 14794.61715281129, -1123.1244943175698, 3720.4266617720714, 2652.020227728237, 18156.041216707177, 2524.6641544309387, 2873.7424942138896, 1443.1793491653516, 4678.133803282108, 11248.004225628683, 915.2964692885289, 19482.09595484406, -4512.835568242241, 2874.0018100687885, 8980.328244374017, 4012.1427060460555, 2787.5844480022206, 18820.00584865574, 5933.879182483739, 4943.113681869552, 2874.453912355326, 3871.6556099785957, -941.2076514364744, -2166.7167385615758, 18697.94638340734, 4915.247854222631, 4180.736553421419, 6184.275782912504, 2216.575263819046, 22178.728452337382, 2443.1196173204225, 13407.1342877844, 19032.202721194655, 18784.94495573186, 3358.593632185395, 1598.5910230211448, 1986.7372488975816, 11622.51507578697, 2610.7949813609303, 3280.8497101539688, 4391.332943589747, 942.2768464499095, 10752.051130885462, 19094.10536911784, 99.01476118035498, 5793.676421728829, 14826.911843112583, -1575.5209141116356, 3179.9057083160733, -1410.9619662904588, -408.2006441403937, 14506.779680838401, 6933.444618471374, 589.3199343658925, 1273.2369221061235, 3610.996478978981, 18931.841029526753, -1876.7236933298118, 1156.580754131428, 12900.56295748576, 1681.5076584741473, 6996.10832256428, -795.1332987514324, 16576.498481379822, 7384.681218460493, 3648.356780667993, 913.37079277882, 2887.5812345024606, 14658.238525794091, 3644.169941586617, 22050.20885861214, 2810.575949894119, 14616.03001771972, -1501.2686053900688, 10820.491864507494, 1035.6748823111993, 18211.24793895724, 8578.80348451648, -1491.9654169806454, 17733.7507942268, 2020.1700273600873, -2172.702346005244, 6827.4350052457885, 22.48509751720121, -1041.943075359799, 10501.782538516156, 2788.798706370493, 15971.721032672154, 5472.885091974662, 786.9394291931239, 10833.854983850877, -2164.3253681064525, 7174.6153006098175, 3471.6316436259076, 1031.3206890649162, 2856.256178285432, 15597.014096346189, -2943.307439465716, 2739.447383680643, 13601.383950984455, -454.8428154041467, 17766.756902669527, 10248.165433354268, 16206.584212963848, 1810.2714636742894, -1143.3899174245598, -2334.1757975117944, 20266.116418309335, 13542.801496660162, 19167.029403957567, 3270.483790094353, 11090.612023890746, 1615.1948660202615, 7064.549056186312, 5266.112835544074, 1491.1089354844007, 7622.684333630197, 16945.21981026212, 912.7211394894985, 6988.224670701689, 18240.273586409137, 5883.155761451373, 2788.295866143628, 80.45692247786792, 6480.101396148762, 13560.145076994377, 10622.160951538826, 18915.417445248517, 2769.8671354125545, 4043.4029838908464, 9159.145276214753, 4756.165773171204, 16376.74473212831, 4122.28800760358, 14455.344841664599, 3398.641766465851, -1047.1984596590337, 8907.879830479447, 2366.1084322650568, 739.0370621557813, 3230.0206998088106, 6208.766978397238, 1093.3347398685291, 2199.943101626239, 8997.671824708232, 286.11680922991945, 3751.7800371827616, 1560.26108724784, 1174.2734481504012, 2913.2370503271522, 4830.410755604011, 12041.327877503354, -1111.63261292057, 8730.973747613607, 18813.970603183756, 1358.18070994952, 18967.355124649184, 18165.746456565685, 19911.052471082716, 1476.1306062356452, 16360.241677906946, 12611.173541258584, 8737.280836651276, -1981.037526794884, 2562.2837719748204, -1833.430034858582, 16119.987692088442, 18961.578095120058, 16373.60479725033, 5774.561304236093, 4119.287107696815, 4676.314815997175, 13504.499880080548, 18897.62066271575, -2623.227527852956, -3300.2970632020442, 2052.9947771699226, 4324.441954397975, 2271.047049269051, 18487.804295349575, 11023.385548636987, 3299.17285157225, 4355.186900269036, 262.4422083902755, 2386.333731534396, 4074.8336294206383, 41.82169748045271, 6361.648659635772, 6843.938059467153, 1607.3777795447968, 19365.439786869363, 6140.35086334587, 18918.68648809794, 21094.930233838677, -424.4962203592004, 2638.6335897262034, 13855.001056146342, -178.25301335338736, -434.025691774179, -1243.6036961180216, 19031.362195081805, 2857.498755847424, 1176.4955867964309, 2849.0846316671814, 3291.4973648150917, 2470.6716905491194, 18999.067504780483, 2025.1054308643215, 11037.962926348642, 1322.8009361426812, 18144.02146370351, -204.48523890101933, 3892.9785513916577, 18912.909458568814, 7222.781784037099, 19806.738637617644, -1756.434677250014, 15461.346887470427, 18817.951064174587, 964.256767441053, 17507.608492174535, 5371.438249909901, 83.3522330718406, 11741.550122469955, 19170.248808778677, -142.6432559179666, 14676.667256525165, 6158.754975506279, 10013.403041840327, 6201.619363246718, 389.18183875625255, 2823.1492810649506, 19268.4762460223, 1140.0530813393998, 4360.7454248838185, 5247.454208063806, 17338.987425517495, -797.4849581780145, 2725.9127967402455, 1041.899900694727, -1777.4846751854056, 1530.5516537453223, 19183.532458178932, -2420.2047357520205, 11409.477677135204, 3511.475313423929, 10125.419581344206, 3427.034365807427, -3333.303171644773, 1665.106080133468, 8889.451099748403, 10572.148948647868, 270.4542811214051, 10621.658111311961, 2279.692170110502, 14504.854004328692, 18150.457660712593, 10404.416946220008, -1189.5505672961008, 19827.32294160762, 152.50438483530888, 19251.47035157407, 6391.990041336598, 19803.01639256967, 4286.746166647004, 12028.302444045985, 8984.590852775495, 15801.122038843954, 3146.526967529935, 4451.82524697695, 11444.639358836837, -2047.825527384848, 5078.7808907453145, 10614.45824549999, 4605.20976844235, 517.5829386127589, -1194.1133384569257, -2200.434265145741, 7983.810745610477, 3355.118211245426, 3792.243127468333, 7733.204467355157, 5846.580034590763, 12264.149985956756, 2586.1643380958994, 2153.1494036443764, 20157.239813683438, 19912.26672945099, 5318.050514944742, 5263.245844143734, 1308.726398657891, 11526.716155279893, 2405.499999776541, 2003.240303118946, 1239.7828248089936, 3273.1470041151333, 17029.66075787865, -2960.5219118285167, 6150.8959422143525, 18605.7541916357, 16958.117235660087, 16710.031435831334, -1077.4122461095394, 4575.579392073851, -41.90783199464204, 18578.78222875294, 10412.275979511935, 19861.543308418622, 19165.815145589266, 7402.398531050159, 817.050227041851, 14176.862808762555, 2094.062596372096, -1448.423056757223, -2002.1033521770732, 7165.995898251043, -300.28415940809646, -2208.1369711845473, -1423.5246833586134, 2275.813597809407, 2843.022166913521, 1462.8223382646975, 2002.0260447506444, 1411.4121176615881, 7968.3928417859715, -823.7951409476809, -406.0674896281271, 2070.131292310718, -2368.396164322796, 17295.41161963562, -2123.19318334118, 6954.004303890659, 18662.511758228036, 2400.9111092460516, 17975.47725435646, 10742.036524334631, 7756.1959692470555, 18104.606377533375, 2671.1081259392668, 2104.687145183678, 862.647371746425, 3724.3052340731665, 17883.995380814216, 1953.6549702477641, 7946.953284148331, 15350.596856996272, 5224.4627061719075, 963.4445605218934, 5815.929286197614, -4360.665305145114, 18928.70109464877, 16627.221902412188, 9615.656065506133, -1738.382656330563, 10469.487848214834, 10133.278614636161, 17525.378055425623, 219.7308600890392, 1007.6795338837255, 881.5789427043637, 1888.5840682529379, 10566.874759345636, 10719.045022442762, 1912.1056296533498, 18188.33590700847, 2954.9143989809963, -2995.9565370077908, 1725.327675830893, -1224.5713363823306, 7485.702077608381, 3822.1464473145024, -2197.5672737454297, 19911.052471082716, 17622.016402133537, 17954.361790945957, 19603.442902039038, 3058.918865753745, 4494.329530084768, 10352.75221029701, 12587.5228718867, 6679.827513309487, -890.3101980599749, 2889.0312900669815, 4660.416490692442, 10537.21716369543, 16424.328218282695, 809.9309310850222, 5765.917283306684, -3666.151400684059, 4401.101825944585, 18789.155313471914, 4487.259872156254, 797.849413229269, 9956.372531770292, 1790.8866905178293, 2485.830278518755, -2381.903119172406, 3627.4995332003455, 602.1555949117173, 7689.9108088839275, 13656.670143177675, 14506.068262696965, 5696.765131543245, 2986.6775170526525, 19234.967297352734, 3579.204628904554, 1132.7770453203411, 865.7873066244356, 6410.418772067671, -493.21177510308917, 11055.680238938308, 2138.932130565372, 6764.771301152883, 10927.160645213065, 1837.860647220543, 670.5963285337493, 2596.632559654361, 3593.279166389344, 8283.303065419343, 16508.806312180648, 18982.56445055912, -128.84463946704636, -1139.6275485389342, 12881.293700641836, 2269.121372759342, 1802.7997542966914, 2832.452469474374, 15582.436718634533, 10302.028789264616, 10707.81615752363, 1628.0305265660863, 8821.850892239221, 2253.329736679414, 4402.316084312857, 9394.333650645567, -1262.0324268490658, -3208.426353024377, -1339.7951538835187, 1016.7433113532607, 1719.9107509344467, 18036.165643911343, 18201.18108174496, 10648.678612311021, 1904.2465963614231, 3153.425157861435, -1919.0852408433857, 2169.60020720429, -2048.264002048614, 14187.073501481063, -763.264591367013, 1244.7935848242487, 20334.557151931367, 17598.083585351036, 3950.1109501514584, 9597.22733477506, 2618.9111306837294, 16240.804579774878, 13582.955220253381, 17673.954081534204, 2871.078180281096, 891.207325252908, -913.4569272929803, 5201.871067827218, 1024.18258810509, 1480.8361129906843, 20208.803760828683, 3028.5770712438098, 5939.382855726086, -2317.67274329043, 227.53435490562697, -4189.563471090049, 5062.27783652395, -321.12370178473066, 10774.331214635953, 7368.178164239129, 16625.087647987937, 4333.875350690825, 16173.851047998789, 827.7773516461311, 6397.083284815075, 1561.129245451477, 17899.04837947106, 19116.305982925172, -3232.3591698069067, 18854.327004244522, 3544.9842620935233, 710.6396622791653, 15529.787621092459, -53.155501916771755, -476.70872088172473, 3526.764109277021, 3916.393423567293, 3374.593846179894, 3602.476765485975, 16646.153473370126, 10632.175558089657, 7181.787534331001, 1184.7052105303446, 19096.031045627547, 5196.0193688900035, 5563.762236600276, 313.16562942267046, -846.2827027007006, -829.7796484793362, 924.661422550038, 10756.613902046316, 17632.303952162067, 6816.206140326685, 5675.7787761041545, 1114.246838708612, 15818.336511206755, 1747.3620353853912, 3293.368602761475, 4761.258603840572, 19534.033634244726, 3650.33319511803, 136.49465665014577, 17435.62577222541, 2131.1150440899073, 16804.02129605325, 6632.244027155102, 1923.6585887995898, 6282.402431378403, 3143.968242909905, 2262.9581192279293, 1308.7510172285547, 3522.3550646583026, 1884.4744992906344, 2920.1624599403294, 869.9575405268115, -4071.6135748039233, 396.8951588977652, 3093.1392325647466, 3517.805921120249, 12435.352608789573, 6882.721197439008, 16605.44465888859, -443.32888018357335, -128.74385068929405, 8925.22341081369, 1268.4442541961034, 15531.001879460731, 2758.0783790701244, 3268.737959496415, 12351.249347059056, 19020.84474830411, -730.3258260436123, 2550.573385663476, 20141.577285574924, 6188.385351874778, -4344.1622509237495, 862.8099253762921, 8168.2756990088965, 3635.044399264938, 2408.058724396542, 18935.060434347863, 1611.7978151114075, 4007.049875376688, 3204.1485788938007, -1007.7227085487975, 12577.793700560433, 780.132100639632, 14725.46500104785, 5281.674574874807, 2703.854918527126, 3447.877985652274, 17538.286872658442, -57.69946807457018, 3010.121121231088, 11426.922046247171, 1441.965090797079, 5894.411845652154, 16527.700736857136, 4692.81787021854, 1490.1393014001078, 792.2136184953852, 2908.22217687979, 6227.195709128311, 17519.628245178174, 11723.961917851731, -211.79540768140578, 2885.2306749878917, 2061.7679060708033, 2789.058022225392, 560.2325220618804, 14625.943835492799, 19670.66937729277, 557.6571922628791, 13318.94977628527, 1357.0213029536826, 3077.850436711684, 4019.7523145189625, 18724.464044179535, 11332.94801347205, 5663.759023100487, 5819.807858498709, 12982.740542706568, 19121.580172227434, -1283.9387783441343, 18026.200675388827, 6859.72969554711, 5382.409998798161, 1896.896303743386, 16358.754476060974, -239.52732682190253, 4365.436204104073, 7250.93968609444, 16115.038696925301, 13033.03798082206, 7079.126433897967, 958.8817893610685, 18733.00727633122, 2869.2591929961927, 16629.650419148762, 4350.0183002795675, 6696.149621707067, -2154.2736152742, 5674.512267074431, 3567.042140306672, 3347.970596094907, 16907.393814627692, -2452.39863727559, 5601.806737149018, 18663.01459845493, 5968.09954929474, -2606.997417109291, 3207.1347872296756, 17848.324958438694, 12029.387594442844, 18045.521082982188, -2604.669689150469, 14514.58317565496, 14343.380552822142, 900.5105136623024, 16574.36422695557, 1625.80651027587, 973.4591670727241, 3313.8558185966976, 4588.706714220985, 16036.969580754754, 3532.3832988319045, 435.52086970448727, -1716.191556713893, 3139.327101717965, 19886.034503903356, 1373.524357175047, 8629.526905548875, -2333.234482621192, 4017.9458549448173, 10903.509975841182, 1254.3602025206492, 2126.5522729290824, 2775.4355870271393, 4291.435845955246, 11480.07398401614, 19402.92919652979, -2672.6844398556277, 713.6170435273089, 16656.879498062364, 964.1559786633006, 1512.2766495563556, -2538.995158150996, 9427.713491343718, 15495.567254281428, 6326.716874683334, 16376.47178865064, 2114.287895641435, -1910.9440601408132, 5185.072238572437, 17200.762591933715, 4079.289711356687, 2232.366899898974, 6261.416075939313, -653.3701794635854, 1833.779397451959, 4433.036411613255, 11079.330908310192, 17417.908459635742, 2992.9066488682874, 8653.17757492073, 608.5785771071387, 403.2261794031656, 19056.279373483383, -1368.3646215806657, -25.4047777732776, -3800.6043511915195, 3898.676110977656, 10383.83264223003, 19809.504840240203, 18059.077675860113, -1250.0921437885554, 4186.346228785638, -4614.282410306972, -603.0727413480927, 20040.130443510192, 20301.55104348864, 16748.81457380316, 6603.246011794021, 4212.372076242755, 15546.290675313823, -1853.073023957928, 16453.98581393287, 7324.228626101831, 18590.46539578261, 10672.884372571192, 16843.27012797052, 16479.132889083674, 1993.7803746473219, -404.1193943717808, 3004.926401871955, -602.6467584312195, 18730.95249185007, 2177.2756939614483, 7232.5109553633665, 18121.820849896147, 18128.25704690523, 16571.935710218997, 10190.064500422188, 2330.415591142868, 16799.537994835526, 18829.259399036848, 1183.65350579191, -2620.8361573978327, 6682.967448187497, 162.51899138613953, 2909.8885375346, -373.7727993268345, 5113.942572446947, 12634.165043150482, 19020.133330162673, 287.7349966915208, -3427.550147897564, 20851.882826115936, 13720.17437338343, 19162.54610273984, 5658.43519576994, 9987.170816292666, 10750.83687251719, 8112.201231364277, 3441.276257457095, 3055.8296688160917, 19903.62270852158, 703.6024369764782, -2952.1600383096957, 9529.16033340848, 1784.981652929273, 2839.0192871760228, 5067.122342286311, 2555.0839061628503, 17869.41800310256, 2650.573872786743, 14446.041653255175, 2842.6620622808696, 3503.694237354008, 9800.780186384538, 7156.922606590844, 21772.941084078397, 835.7371737158101, 5415.416107240861, 17159.744410759857, 2581.4217210233037, -744.8358606359398, -1418.7654611070466, -4375.2426828567695, 2908.6742791663273, 3341.741464279272, 16775.332234575355, 3153.2714313193283, 14293.871390158049, 19908.997686601564, 2209.4276486685267, -676.1876490113791, -103.87892294913763, 12618.373407070525, 2445.7545121475123, -1051.7836495665251, -281.85542867705226, 20300.336785120366, 16410.253680797905, -620.3640710208565, 3139.5591982911865, -1007.7561542072217, 3469.4738705430063, 11696.88916619122, -233.186792125809, -2571.2898484523175, 5834.358016928687, 2296.9562805016176, 15580.511042124825, 6130.311638224375, 4443.606109052373, 21722.217663046, 4605.819297894021, -2272.5972438157187, 1968.6844502459571, 6359.695351035305, -2337.315732389776, 18920.61216460762, 17012.446285515878, 4586.523921680433, 11443.698043946206, 6416.143963744456, 18538.52771638194, 18949.184609860968, 1335.6707294498628, 3070.4070465277473, -1432.8278717680369, 19684.98963897355, 3426.5315255805617, -1392.4442514255934, 19267.973405795463, 6498.530126879836, 11707.458863630367, 12583.441622118116, 10225.499125601491, 1914.1604141345015, 14810.408788891218, 6374.775981782936, 3954.6737213122833, 2800.1577791730815, 16206.857156441518, 2252.6183185379778, 11343.192516772076, 5667.637595401582, 16559.995427158457, 3451.951544209034, 20824.810074455454, 5459.651080602722, 18701.215426256764, -421.4629747059953, 1870.404762340855, 15530.499039233866, 10026.183851013717, 17840.19888211612, -215.71410382015165, 2894.5861140587367, 20995.409068283625, 16199.982484768698, 50.21701665769797, 11593.942630533653, 4960.273715668998, 5246.3407384732855, 14727.39067755756, 823.6677826838277, 5371.462868480565]\n"
          ]
        }
      ]
    },
    {
      "cell_type": "code",
      "source": [
        "for i in range(20):\n",
        "    print([num[num_order[j]][str(x_test[i][j])] for j in range(len(num_order))], f\"{x_test[i][3]}/{x_test[i][4]}\", y_pred[i])\n"
      ],
      "metadata": {
        "colab": {
          "base_uri": "https://localhost:8080/"
        },
        "id": "V04G0jTDPQrh",
        "outputId": "0c1155a3-2342-496e-ba32-f82ea0e28d5d"
      },
      "execution_count": null,
      "outputs": [
        {
          "output_type": "stream",
          "name": "stdout",
          "text": [
            "['CSA', 'UCSCPU', 'UCS-CPU-I8276L'] 7/2022 2173.1278788057098\n",
            "['TOASTBU', 'SEP25G', 'SFP-25G-SR-S'] 10/2007 12196.082984590175\n",
            "['QKBU', 'N9300', 'N9K-C9364C'] 7/2007 2372.493891333812\n",
            "['TOASTBU', 'QSFP100', 'QSFP-100G-DR-S'] 7/2022 11580.3065677126\n",
            "['UCEBU', 'PHONVOC', 'CP-7841-K9'] 1/2022 20215.39299727697\n",
            "['SRSBU', 'ISR1K', 'C1111-4P'] 7/2012 6926.9561708008405\n",
            "['SRSBU', '4300ISR', 'ISR4331/K9'] 9/2012 956.9561128513596\n",
            "['SRSBU', 'VIPTELA', 'VEDGE-2000-AC-K9'] 10/2007 8372.913701015234\n",
            "['CRBU', 'NCS55FC', 'NCS-55A1-36H-SYS'] 11/2022 -2571.5627919299877\n",
            "['UOPBLRBU', 'C9300', 'C9300-48T'] 9/2007 16309.518256874551\n",
            "['EBBU', 'C9600', 'C9606R'] 6/2007 6203.94709120554\n",
            "['UOPBLRBU', 'C9200L', 'C9200L-48P-4G-E'] 0/2022 16850.699890531658\n",
            "['UOPBLRBU', 'C9400', 'C9400-SUP-1XL'] 9/2012 18943.149364388984\n",
            "['CVEBU', 'CTSQS', 'CS-T10-TS+'] 6/2012 6514.321762959764\n",
            "['TOASTBU', 'QSFP100', 'QSFP-100G-LR4-S'] 11/2022 11445.85361720511\n",
            "['UCEBU', 'PHONVOC', 'CP-8841-K9'] 2/2011 19319.9110851961\n",
            "['CSA', 'UCSCPU', 'UCS-CPU-I6240R'] 3/2012 1203.6367814882833\n",
            "['SRSBU', 'A9K1000', 'A9K1000-ESP100'] 2/2014 3388.61353229222\n",
            "['UCEBU', 'PHON3PC', 'CP-8865-3PCC-K9'] 6/2008 16888.965083896648\n",
            "['NGFWBU', 'FPRLOW', 'FPR1010-NGFW-K9'] 8/2011 918.4970691066119\n"
          ]
        }
      ]
    },
    {
      "cell_type": "code",
      "source": [
        "# accuracy\n",
        "mse = mean_squared_error(y_test, y_pred)\n",
        "print(mse)"
      ],
      "metadata": {
        "colab": {
          "base_uri": "https://localhost:8080/"
        },
        "id": "LxTAJk34LY_q",
        "outputId": "dcf24f9a-4f6f-47bf-ef06-98025399991e"
      },
      "execution_count": null,
      "outputs": [
        {
          "output_type": "stream",
          "name": "stdout",
          "text": [
            "319796029.9696209\n"
          ]
        }
      ]
    },
    {
      "cell_type": "markdown",
      "source": [
        "## <u><i>SIDE QUESTS</i><u><b>"
      ],
      "metadata": {
        "id": "78GNX5-BYUgi"
      }
    },
    {
      "cell_type": "code",
      "source": [
        "# load data\n",
        "fx = open(\"x_data.pickle\", \"rb\")\n",
        "fy = open(\"y_data.pickle\", \"rb\")\n",
        "\n",
        "x = pickle.load(fx)\n",
        "y = pickle.load(fy)\n",
        "\n",
        "fx.close()\n",
        "fy.close()"
      ],
      "metadata": {
        "id": "9ciUHHuPYfIM"
      },
      "execution_count": null,
      "outputs": []
    },
    {
      "cell_type": "code",
      "source": [
        "x = np.array(x)\n",
        "y = np.array(y)\n",
        "\n",
        "for i in range()"
      ],
      "metadata": {
        "colab": {
          "base_uri": "https://localhost:8080/",
          "height": 131
        },
        "id": "QSipvHC7Ysh2",
        "outputId": "2e97a4fc-aa4b-49ad-af6a-1c23232787cf"
      },
      "execution_count": null,
      "outputs": [
        {
          "output_type": "error",
          "ename": "SyntaxError",
          "evalue": "ignored",
          "traceback": [
            "\u001b[0;36m  File \u001b[0;32m\"<ipython-input-197-99c69270be59>\"\u001b[0;36m, line \u001b[0;32m4\u001b[0m\n\u001b[0;31m    for i in range()\u001b[0m\n\u001b[0m                    ^\u001b[0m\n\u001b[0;31mSyntaxError\u001b[0m\u001b[0;31m:\u001b[0m invalid syntax\n"
          ]
        }
      ]
    },
    {
      "cell_type": "code",
      "source": [],
      "metadata": {
        "id": "GnlGPLF4Z3ia"
      },
      "execution_count": null,
      "outputs": []
    }
  ]
}