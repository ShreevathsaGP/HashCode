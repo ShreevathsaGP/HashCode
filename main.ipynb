{
  "nbformat": 4,
  "nbformat_minor": 0,
  "metadata": {
    "colab": {
      "provenance": []
    },
    "kernelspec": {
      "name": "python3",
      "display_name": "Python 3"
    },
    "language_info": {
      "name": "python"
    }
  },
  "cells": [
    {
      "cell_type": "code",
      "execution_count": 53,
      "metadata": {
        "id": "xiwAjfVpf5jd"
      },
      "outputs": [],
      "source": [
        "import pandas as pd\n",
        "import matplotlib.pyplot as plt\n",
        "%matplotlib inline               "
      ]
    },
    {
      "cell_type": "code",
      "source": [
        "plt.rcParams['figure.figsize'] = (23, 10)\n",
        "df = pd.read_csv('problem_1.csv')\n",
        "df.head()"
      ],
      "metadata": {
        "colab": {
          "base_uri": "https://localhost:8080/",
          "height": 206
        },
        "id": "w3sxUAfXhLCQ",
        "outputId": "058c44e6-561a-4705-da50-21c0b743a1ea"
      },
      "execution_count": 54,
      "outputs": [
        {
          "output_type": "execute_result",
          "data": {
            "text/plain": [
              "  Business Unit Product Family             PLID Fiscal Quarter Fiscal Month  \\\n",
              "0         CSWBU           CBR8  CBR-D121-DS-MOD      Q1 FY2022   AUG FY2022   \n",
              "1         CSWBU           CBR8  CBR-D121-DS-MOD      Q1 FY2022   OCT FY2022   \n",
              "2         CSWBU           CBR8  CBR-D121-DS-MOD      Q1 FY2022   SEP FY2022   \n",
              "3         CSWBU           CBR8  CBR-D121-DS-MOD      Q1 FY2002   AUG FY2002   \n",
              "4         CSWBU           CBR8  CBR-D121-DS-MOD      Q1 FY2002   OCT FY2002   \n",
              "\n",
              "   Booked_Qty Booking_Date  \n",
              "0         204   01-08-2016  \n",
              "1         564   01-10-2016  \n",
              "2        1476   01-09-2016  \n",
              "3         374   01-08-2017  \n",
              "4        6094   01-10-2017  "
            ],
            "text/html": [
              "\n",
              "  <div id=\"df-1e347c84-d451-4393-ab82-18a501393b68\">\n",
              "    <div class=\"colab-df-container\">\n",
              "      <div>\n",
              "<style scoped>\n",
              "    .dataframe tbody tr th:only-of-type {\n",
              "        vertical-align: middle;\n",
              "    }\n",
              "\n",
              "    .dataframe tbody tr th {\n",
              "        vertical-align: top;\n",
              "    }\n",
              "\n",
              "    .dataframe thead th {\n",
              "        text-align: right;\n",
              "    }\n",
              "</style>\n",
              "<table border=\"1\" class=\"dataframe\">\n",
              "  <thead>\n",
              "    <tr style=\"text-align: right;\">\n",
              "      <th></th>\n",
              "      <th>Business Unit</th>\n",
              "      <th>Product Family</th>\n",
              "      <th>PLID</th>\n",
              "      <th>Fiscal Quarter</th>\n",
              "      <th>Fiscal Month</th>\n",
              "      <th>Booked_Qty</th>\n",
              "      <th>Booking_Date</th>\n",
              "    </tr>\n",
              "  </thead>\n",
              "  <tbody>\n",
              "    <tr>\n",
              "      <th>0</th>\n",
              "      <td>CSWBU</td>\n",
              "      <td>CBR8</td>\n",
              "      <td>CBR-D121-DS-MOD</td>\n",
              "      <td>Q1 FY2022</td>\n",
              "      <td>AUG FY2022</td>\n",
              "      <td>204</td>\n",
              "      <td>01-08-2016</td>\n",
              "    </tr>\n",
              "    <tr>\n",
              "      <th>1</th>\n",
              "      <td>CSWBU</td>\n",
              "      <td>CBR8</td>\n",
              "      <td>CBR-D121-DS-MOD</td>\n",
              "      <td>Q1 FY2022</td>\n",
              "      <td>OCT FY2022</td>\n",
              "      <td>564</td>\n",
              "      <td>01-10-2016</td>\n",
              "    </tr>\n",
              "    <tr>\n",
              "      <th>2</th>\n",
              "      <td>CSWBU</td>\n",
              "      <td>CBR8</td>\n",
              "      <td>CBR-D121-DS-MOD</td>\n",
              "      <td>Q1 FY2022</td>\n",
              "      <td>SEP FY2022</td>\n",
              "      <td>1476</td>\n",
              "      <td>01-09-2016</td>\n",
              "    </tr>\n",
              "    <tr>\n",
              "      <th>3</th>\n",
              "      <td>CSWBU</td>\n",
              "      <td>CBR8</td>\n",
              "      <td>CBR-D121-DS-MOD</td>\n",
              "      <td>Q1 FY2002</td>\n",
              "      <td>AUG FY2002</td>\n",
              "      <td>374</td>\n",
              "      <td>01-08-2017</td>\n",
              "    </tr>\n",
              "    <tr>\n",
              "      <th>4</th>\n",
              "      <td>CSWBU</td>\n",
              "      <td>CBR8</td>\n",
              "      <td>CBR-D121-DS-MOD</td>\n",
              "      <td>Q1 FY2002</td>\n",
              "      <td>OCT FY2002</td>\n",
              "      <td>6094</td>\n",
              "      <td>01-10-2017</td>\n",
              "    </tr>\n",
              "  </tbody>\n",
              "</table>\n",
              "</div>\n",
              "      <button class=\"colab-df-convert\" onclick=\"convertToInteractive('df-1e347c84-d451-4393-ab82-18a501393b68')\"\n",
              "              title=\"Convert this dataframe to an interactive table.\"\n",
              "              style=\"display:none;\">\n",
              "        \n",
              "  <svg xmlns=\"http://www.w3.org/2000/svg\" height=\"24px\"viewBox=\"0 0 24 24\"\n",
              "       width=\"24px\">\n",
              "    <path d=\"M0 0h24v24H0V0z\" fill=\"none\"/>\n",
              "    <path d=\"M18.56 5.44l.94 2.06.94-2.06 2.06-.94-2.06-.94-.94-2.06-.94 2.06-2.06.94zm-11 1L8.5 8.5l.94-2.06 2.06-.94-2.06-.94L8.5 2.5l-.94 2.06-2.06.94zm10 10l.94 2.06.94-2.06 2.06-.94-2.06-.94-.94-2.06-.94 2.06-2.06.94z\"/><path d=\"M17.41 7.96l-1.37-1.37c-.4-.4-.92-.59-1.43-.59-.52 0-1.04.2-1.43.59L10.3 9.45l-7.72 7.72c-.78.78-.78 2.05 0 2.83L4 21.41c.39.39.9.59 1.41.59.51 0 1.02-.2 1.41-.59l7.78-7.78 2.81-2.81c.8-.78.8-2.07 0-2.86zM5.41 20L4 18.59l7.72-7.72 1.47 1.35L5.41 20z\"/>\n",
              "  </svg>\n",
              "      </button>\n",
              "      \n",
              "  <style>\n",
              "    .colab-df-container {\n",
              "      display:flex;\n",
              "      flex-wrap:wrap;\n",
              "      gap: 12px;\n",
              "    }\n",
              "\n",
              "    .colab-df-convert {\n",
              "      background-color: #E8F0FE;\n",
              "      border: none;\n",
              "      border-radius: 50%;\n",
              "      cursor: pointer;\n",
              "      display: none;\n",
              "      fill: #1967D2;\n",
              "      height: 32px;\n",
              "      padding: 0 0 0 0;\n",
              "      width: 32px;\n",
              "    }\n",
              "\n",
              "    .colab-df-convert:hover {\n",
              "      background-color: #E2EBFA;\n",
              "      box-shadow: 0px 1px 2px rgba(60, 64, 67, 0.3), 0px 1px 3px 1px rgba(60, 64, 67, 0.15);\n",
              "      fill: #174EA6;\n",
              "    }\n",
              "\n",
              "    [theme=dark] .colab-df-convert {\n",
              "      background-color: #3B4455;\n",
              "      fill: #D2E3FC;\n",
              "    }\n",
              "\n",
              "    [theme=dark] .colab-df-convert:hover {\n",
              "      background-color: #434B5C;\n",
              "      box-shadow: 0px 1px 3px 1px rgba(0, 0, 0, 0.15);\n",
              "      filter: drop-shadow(0px 1px 2px rgba(0, 0, 0, 0.3));\n",
              "      fill: #FFFFFF;\n",
              "    }\n",
              "  </style>\n",
              "\n",
              "      <script>\n",
              "        const buttonEl =\n",
              "          document.querySelector('#df-1e347c84-d451-4393-ab82-18a501393b68 button.colab-df-convert');\n",
              "        buttonEl.style.display =\n",
              "          google.colab.kernel.accessAllowed ? 'block' : 'none';\n",
              "\n",
              "        async function convertToInteractive(key) {\n",
              "          const element = document.querySelector('#df-1e347c84-d451-4393-ab82-18a501393b68');\n",
              "          const dataTable =\n",
              "            await google.colab.kernel.invokeFunction('convertToInteractive',\n",
              "                                                     [key], {});\n",
              "          if (!dataTable) return;\n",
              "\n",
              "          const docLinkHtml = 'Like what you see? Visit the ' +\n",
              "            '<a target=\"_blank\" href=https://colab.research.google.com/notebooks/data_table.ipynb>data table notebook</a>'\n",
              "            + ' to learn more about interactive tables.';\n",
              "          element.innerHTML = '';\n",
              "          dataTable['output_type'] = 'display_data';\n",
              "          await google.colab.output.renderOutput(dataTable, element);\n",
              "          const docLink = document.createElement('div');\n",
              "          docLink.innerHTML = docLinkHtml;\n",
              "          element.appendChild(docLink);\n",
              "        }\n",
              "      </script>\n",
              "    </div>\n",
              "  </div>\n",
              "  "
            ]
          },
          "metadata": {},
          "execution_count": 54
        }
      ]
    },
    {
      "cell_type": "code",
      "source": [
        "array = df.to_numpy()\n",
        "print(array)"
      ],
      "metadata": {
        "colab": {
          "base_uri": "https://localhost:8080/"
        },
        "id": "1Oi-c61ww1Ps",
        "outputId": "fb67b313-01fc-4fcd-90af-2bc3ebd533ee"
      },
      "execution_count": 55,
      "outputs": [
        {
          "output_type": "stream",
          "name": "stdout",
          "text": [
            "[['CSWBU' 'CBR8' 'CBR-D121-DS-MOD' ... 'AUG FY2022' 204 '01-08-2016']\n",
            " ['CSWBU' 'CBR8' 'CBR-D121-DS-MOD' ... 'OCT FY2022' 564 '01-10-2016']\n",
            " ['CSWBU' 'CBR8' 'CBR-D121-DS-MOD' ... 'SEP FY2022' 1476 '01-09-2016']\n",
            " ...\n",
            " ['RTOBU' 'C980040' 'C9800-40-K9' ... 'JUL FY2012' 1231 '01-07-2021']\n",
            " ['RTOBU' 'C980040' 'C9800-40-K9' ... 'JUN FY2012' 591 '01-06-2021']\n",
            " ['RTOBU' 'C980040' 'C9800-40-K9' ... 'MAY FY2012' 601 '01-05-2021']]\n"
          ]
        }
      ]
    },
    {
      "cell_type": "code",
      "source": [
        "print(len(array))"
      ],
      "metadata": {
        "colab": {
          "base_uri": "https://localhost:8080/"
        },
        "id": "DMbSAFJ7w8ks",
        "outputId": "03b03e59-060c-485a-effd-d672170951c8"
      },
      "execution_count": 56,
      "outputs": [
        {
          "output_type": "stream",
          "name": "stdout",
          "text": [
            "10996\n"
          ]
        }
      ]
    },
    {
      "cell_type": "code",
      "source": [
        "# plot 1 [booked quantity VS business unit]\n",
        "\n",
        "business_units = df[\"Business Unit\"]\n",
        "booked_quants = df[\"Booked_Qty\"]\n"
      ],
      "metadata": {
        "id": "zsyQtHH7h3zr"
      },
      "execution_count": 57,
      "outputs": []
    },
    {
      "cell_type": "code",
      "source": [
        "# display plot\n",
        "plt.bar(business_units, booked_quants, color ='maroon', width = 0.4)\n",
        "plt.show()"
      ],
      "metadata": {
        "colab": {
          "base_uri": "https://localhost:8080/",
          "height": 582
        },
        "id": "3V_QW2VHsKVK",
        "outputId": "236b981b-9cf6-4b28-b9db-5a71e0836e9a"
      },
      "execution_count": 58,
      "outputs": [
        {
          "output_type": "display_data",
          "data": {
            "text/plain": [
              "<Figure size 1656x720 with 1 Axes>"
            ],
            "image/png": "[encoded data removed]"
          },
          "metadata": {
            "needs_background": "light"
          }
        }
      ]
    },
    {
      "cell_type": "code",
      "source": [
        "# plot 2 [booked quantity vs product family]\n",
        "\n",
        "new_df = df[[\"Product Family\", \"Booked_Qty\"]]\n",
        "grouped = new_df.groupby(\"Product Family\")['Booked_Qty'].sum()\n",
        "\n",
        "array_2 = grouped.to_numpy()"
      ],
      "metadata": {
        "id": "ZVeIDW9bkeiO"
      },
      "execution_count": 59,
      "outputs": []
    },
    {
      "cell_type": "code",
      "source": [
        "with pd.option_context('display.max_rows', None, 'display.max_columns', None, 'display.precision', 3, ):\n",
        "    print(grouped)"
      ],
      "metadata": {
        "colab": {
          "base_uri": "https://localhost:8080/"
        },
        "id": "GU_NvWAysAvm",
        "outputId": "a12760a7-d9ae-4d61-fbd2-82d7b56bb5a8"
      },
      "execution_count": 60,
      "outputs": [
        {
          "output_type": "stream",
          "name": "stdout",
          "text": [
            "Product Family\n",
            "15454W        37026\n",
            "4300ISR     1697315\n",
            "8000          27343\n",
            "A9K1000      199111\n",
            "A9K9000       22665\n",
            "A9K920       147575\n",
            "A9K9KFM       43885\n",
            "C1000        145905\n",
            "C3560CX      267626\n",
            "C3650         25274\n",
            "C9105AX      403076\n",
            "C9115AX      824370\n",
            "C9120AX     2850175\n",
            "C9130AX     1211695\n",
            "C9200        431123\n",
            "C9200L      1143255\n",
            "C9300       3214243\n",
            "C9300AG       66073\n",
            "C9300L       136144\n",
            "C9400       1147008\n",
            "C9500        242612\n",
            "C9600         33431\n",
            "C980040       17598\n",
            "CAT8200       19716\n",
            "CAT8300       22246\n",
            "CAT8500        7049\n",
            "CBR8         126162\n",
            "CPAK100      254520\n",
            "CTSMPS        11186\n",
            "CTSPS         36591\n",
            "CTSQS        809177\n",
            "DNAHW        103106\n",
            "FPRHIGH        6064\n",
            "FPRLOW        77362\n",
            "HXCPU          2218\n",
            "HXSSD        120849\n",
            "IE4000        87565\n",
            "ISR1121      468634\n",
            "ISR1K       1140941\n",
            "ISR900        49951\n",
            "MDS9000     1250146\n",
            "N3000           541\n",
            "N9300        468866\n",
            "N9500        105473\n",
            "NCS1000       20363\n",
            "NCS4000        1008\n",
            "NCS4200       12015\n",
            "NCS540       245061\n",
            "NCS5500       30901\n",
            "NCS55FC       39032\n",
            "NCS560        58416\n",
            "NCS6000         838\n",
            "ONS           66299\n",
            "PHON3PC      376375\n",
            "PHONVID     2188151\n",
            "PHONVOC    29742127\n",
            "QDD400G       50593\n",
            "QSFP100     2833824\n",
            "QSFP40G     3054843\n",
            "SEP25G      1119187\n",
            "SFP10G      6880923\n",
            "SFPGE       5781692\n",
            "UCSB         369941\n",
            "UCSC         175101\n",
            "UCSCPU       295258\n",
            "UCSHDD         4093\n",
            "UCSMEM      3596179\n",
            "UCSSSD       178576\n",
            "UCST          14068\n",
            "UCSX           5040\n",
            "VIPTELA        9880\n",
            "WANLAN       200150\n",
            "WPHONE       868659\n",
            "Name: Booked_Qty, dtype: int64\n"
          ]
        }
      ]
    },
    {
      "cell_type": "code",
      "source": [
        "df = pd.read_csv('problem_1.csv')"
      ],
      "metadata": {
        "id": "5nnKaoHu_5Yb"
      },
      "execution_count": 61,
      "outputs": []
    },
    {
      "cell_type": "code",
      "source": [
        "parts = df[\"Booking_Date\"].str.split(\"-\", n = 3, expand = True)\n",
        "df.head()\n",
        "arr = df.to_numpy()\n",
        "\n",
        "# separate date of order\n",
        "df[\"year\"]= parts[2].astype('int')\n",
        "df[\"month\"]= parts[1].astype('int')\n",
        "df[\"year\"].head()\n",
        "df['prod_info'] = df['Business Unit'] + df['Product Family'] + df['PLID']\n",
        "\n",
        "# print results\n",
        "print(df['Business Unit'].nunique(),'Business Unit')\n",
        "print(df['Product Family'].nunique(),'Product Family')\n",
        "print(df['PLID'].nunique(),'PLID')\n",
        "print(df['year'].nunique(),'year')\n",
        "print(df['month'].nunique(),'month')\n",
        "\n",
        "# replace features with numbers\n",
        "df['Business Unit Val'] = pd.factorize(df['Business Unit'])[0]\n",
        "df['Product Family Val'] = pd.factorize(df['Product Family'])[0]\n",
        "df['PLID Val'] = pd.factorize(df['PLID'])[0]\n",
        "\n",
        "# remove old features\n",
        "df.drop('Fiscal Quarter', inplace=True, axis=1)\n",
        "df.drop('Business Unit', inplace=True, axis=1)\n",
        "df.drop('PLID', inplace=True, axis=1)\n",
        "df.drop('Fiscal Month', inplace=True, axis=1)\n",
        "df.drop('prod_info', inplace=True, axis=1)\n",
        "df.drop('Product Family', inplace=True, axis=1)\n",
        "df.drop('Booking_Date', inplace=True, axis=1)\n",
        "\n",
        "data = df.copy()\n",
        "df.head()"
      ],
      "metadata": {
        "colab": {
          "base_uri": "https://localhost:8080/",
          "height": 121
        },
        "id": "NBIQ9Hgd_0eq",
        "outputId": "f99eba37-4efa-48c8-db64-c9ed442acca9"
      },
      "execution_count": 62,
      "outputs": [
        {
          "output_type": "stream",
          "name": "stdout",
          "text": [
            "18 Business Unit\n",
            "73 Product Family\n",
            "250 PLID\n",
            "10 year\n",
            "12 month\n"
          ]
        },
        {
          "output_type": "execute_result",
          "data": {
            "text/plain": [
              "   Booked_Qty  year  month  Business Unit Val  Product Family Val  PLID Val\n",
              "0         204  2016      8                  0                   0         0\n",
              "1         564  2016     10                  0                   0         0\n",
              "2        1476  2016      9                  0                   0         0\n",
              "3         374  2017      8                  0                   0         0\n",
              "4        6094  2017     10                  0                   0         0"
            ],
            "text/html": [
              "\n",
              "  <div id=\"df-9a79cc6d-12e5-4411-884b-e9e00d381809\">\n",
              "    <div class=\"colab-df-container\">\n",
              "      <div>\n",
              "<style scoped>\n",
              "    .dataframe tbody tr th:only-of-type {\n",
              "        vertical-align: middle;\n",
              "    }\n",
              "\n",
              "    .dataframe tbody tr th {\n",
              "        vertical-align: top;\n",
              "    }\n",
              "\n",
              "    .dataframe thead th {\n",
              "        text-align: right;\n",
              "    }\n",
              "</style>\n",
              "<table border=\"1\" class=\"dataframe\">\n",
              "  <thead>\n",
              "    <tr style=\"text-align: right;\">\n",
              "      <th></th>\n",
              "      <th>Booked_Qty</th>\n",
              "      <th>year</th>\n",
              "      <th>month</th>\n",
              "      <th>Business Unit Val</th>\n",
              "      <th>Product Family Val</th>\n",
              "      <th>PLID Val</th>\n",
              "    </tr>\n",
              "  </thead>\n",
              "  <tbody>\n",
              "    <tr>\n",
              "      <th>0</th>\n",
              "      <td>204</td>\n",
              "      <td>2016</td>\n",
              "      <td>8</td>\n",
              "      <td>0</td>\n",
              "      <td>0</td>\n",
              "      <td>0</td>\n",
              "    </tr>\n",
              "    <tr>\n",
              "      <th>1</th>\n",
              "      <td>564</td>\n",
              "      <td>2016</td>\n",
              "      <td>10</td>\n",
              "      <td>0</td>\n",
              "      <td>0</td>\n",
              "      <td>0</td>\n",
              "    </tr>\n",
              "    <tr>\n",
              "      <th>2</th>\n",
              "      <td>1476</td>\n",
              "      <td>2016</td>\n",
              "      <td>9</td>\n",
              "      <td>0</td>\n",
              "      <td>0</td>\n",
              "      <td>0</td>\n",
              "    </tr>\n",
              "    <tr>\n",
              "      <th>3</th>\n",
              "      <td>374</td>\n",
              "      <td>2017</td>\n",
              "      <td>8</td>\n",
              "      <td>0</td>\n",
              "      <td>0</td>\n",
              "      <td>0</td>\n",
              "    </tr>\n",
              "    <tr>\n",
              "      <th>4</th>\n",
              "      <td>6094</td>\n",
              "      <td>2017</td>\n",
              "      <td>10</td>\n",
              "      <td>0</td>\n",
              "      <td>0</td>\n",
              "      <td>0</td>\n",
              "    </tr>\n",
              "  </tbody>\n",
              "</table>\n",
              "</div>\n",
              "      <button class=\"colab-df-convert\" onclick=\"convertToInteractive('df-9a79cc6d-12e5-4411-884b-e9e00d381809')\"\n",
              "              title=\"Convert this dataframe to an interactive table.\"\n",
              "              style=\"display:none;\">\n",
              "        \n",
              "  <svg xmlns=\"http://www.w3.org/2000/svg\" height=\"24px\"viewBox=\"0 0 24 24\"\n",
              "       width=\"24px\">\n",
              "    <path d=\"M0 0h24v24H0V0z\" fill=\"none\"/>\n",
              "    <path d=\"M18.56 5.44l.94 2.06.94-2.06 2.06-.94-2.06-.94-.94-2.06-.94 2.06-2.06.94zm-11 1L8.5 8.5l.94-2.06 2.06-.94-2.06-.94L8.5 2.5l-.94 2.06-2.06.94zm10 10l.94 2.06.94-2.06 2.06-.94-2.06-.94-.94-2.06-.94 2.06-2.06.94z\"/><path d=\"M17.41 7.96l-1.37-1.37c-.4-.4-.92-.59-1.43-.59-.52 0-1.04.2-1.43.59L10.3 9.45l-7.72 7.72c-.78.78-.78 2.05 0 2.83L4 21.41c.39.39.9.59 1.41.59.51 0 1.02-.2 1.41-.59l7.78-7.78 2.81-2.81c.8-.78.8-2.07 0-2.86zM5.41 20L4 18.59l7.72-7.72 1.47 1.35L5.41 20z\"/>\n",
              "  </svg>\n",
              "      </button>\n",
              "      \n",
              "  <style>\n",
              "    .colab-df-container {\n",
              "      display:flex;\n",
              "      flex-wrap:wrap;\n",
              "      gap: 12px;\n",
              "    }\n",
              "\n",
              "    .colab-df-convert {\n",
              "      background-color: #E8F0FE;\n",
              "      border: none;\n",
              "      border-radius: 50%;\n",
              "      cursor: pointer;\n",
              "      display: none;\n",
              "      fill: #1967D2;\n",
              "      height: 32px;\n",
              "      padding: 0 0 0 0;\n",
              "      width: 32px;\n",
              "    }\n",
              "\n",
              "    .colab-df-convert:hover {\n",
              "      background-color: #E2EBFA;\n",
              "      box-shadow: 0px 1px 2px rgba(60, 64, 67, 0.3), 0px 1px 3px 1px rgba(60, 64, 67, 0.15);\n",
              "      fill: #174EA6;\n",
              "    }\n",
              "\n",
              "    [theme=dark] .colab-df-convert {\n",
              "      background-color: #3B4455;\n",
              "      fill: #D2E3FC;\n",
              "    }\n",
              "\n",
              "    [theme=dark] .colab-df-convert:hover {\n",
              "      background-color: #434B5C;\n",
              "      box-shadow: 0px 1px 3px 1px rgba(0, 0, 0, 0.15);\n",
              "      filter: drop-shadow(0px 1px 2px rgba(0, 0, 0, 0.3));\n",
              "      fill: #FFFFFF;\n",
              "    }\n",
              "  </style>\n",
              "\n",
              "      <script>\n",
              "        const buttonEl =\n",
              "          document.querySelector('#df-9a79cc6d-12e5-4411-884b-e9e00d381809 button.colab-df-convert');\n",
              "        buttonEl.style.display =\n",
              "          google.colab.kernel.accessAllowed ? 'block' : 'none';\n",
              "\n",
              "        async function convertToInteractive(key) {\n",
              "          const element = document.querySelector('#df-9a79cc6d-12e5-4411-884b-e9e00d381809');\n",
              "          const dataTable =\n",
              "            await google.colab.kernel.invokeFunction('convertToInteractive',\n",
              "                                                     [key], {});\n",
              "          if (!dataTable) return;\n",
              "\n",
              "          const docLinkHtml = 'Like what you see? Visit the ' +\n",
              "            '<a target=\"_blank\" href=https://colab.research.google.com/notebooks/data_table.ipynb>data table notebook</a>'\n",
              "            + ' to learn more about interactive tables.';\n",
              "          element.innerHTML = '';\n",
              "          dataTable['output_type'] = 'display_data';\n",
              "          await google.colab.output.renderOutput(dataTable, element);\n",
              "          const docLink = document.createElement('div');\n",
              "          docLink.innerHTML = docLinkHtml;\n",
              "          element.appendChild(docLink);\n",
              "        }\n",
              "      </script>\n",
              "    </div>\n",
              "  </div>\n",
              "  "
            ]
          },
          "metadata": {},
          "execution_count": 62
        }
      ]
    },
    {
      "cell_type": "code",
      "source": [
        "# x and y for training\n",
        "ydf = df['Booked_Qty']\n",
        "xdf = df[[\"Business Unit Val\", \"Product Family Val\", \"PLID Val\", \"month\", \"year\"]]\n",
        "\n",
        "# convert to numpy\n",
        "y = ydf.to_numpy()\n",
        "x = xdf.to_numpy()\n",
        "\n",
        "print(x, y)"
      ],
      "metadata": {
        "colab": {
          "base_uri": "https://localhost:8080/"
        },
        "id": "YKHtumqqBDd2",
        "outputId": "c2c949f3-2ae2-4373-c557-a26a0eef4f86"
      },
      "execution_count": 65,
      "outputs": [
        {
          "output_type": "stream",
          "name": "stdout",
          "text": [
            "[[   0    0    0    8 2016]\n",
            " [   0    0    0   10 2016]\n",
            " [   0    0    0    9 2016]\n",
            " ...\n",
            " [  17   72  249    7 2021]\n",
            " [  17   72  249    6 2021]\n",
            " [  17   72  249    5 2021]] [ 204  564 1476 ... 1231  591  601]\n"
          ]
        }
      ]
    }
  ]
}