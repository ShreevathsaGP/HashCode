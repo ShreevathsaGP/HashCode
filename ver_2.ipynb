{
 "cells": [
  {
   "cell_type": "code",
   "execution_count": 34,
   "metadata": {},
   "outputs": [],
   "source": [
    "import pandas as pd\n",
    "df = pd.read_csv(r'G:\\HashCode_23\\PLID_Bookings_Problem1.csv')"
   ]
  },
  {
   "cell_type": "code",
   "execution_count": 35,
   "metadata": {},
   "outputs": [
    {
     "data": {
      "text/html": [
       "<div>\n",
       "<style scoped>\n",
       "    .dataframe tbody tr th:only-of-type {\n",
       "        vertical-align: middle;\n",
       "    }\n",
       "\n",
       "    .dataframe tbody tr th {\n",
       "        vertical-align: top;\n",
       "    }\n",
       "\n",
       "    .dataframe thead th {\n",
       "        text-align: right;\n",
       "    }\n",
       "</style>\n",
       "<table border=\"1\" class=\"dataframe\">\n",
       "  <thead>\n",
       "    <tr style=\"text-align: right;\">\n",
       "      <th></th>\n",
       "      <th>Business Unit</th>\n",
       "      <th>Product Family</th>\n",
       "      <th>PLID</th>\n",
       "      <th>Fiscal Quarter</th>\n",
       "      <th>Fiscal Month</th>\n",
       "      <th>Booked_Qty</th>\n",
       "      <th>Booking_Date</th>\n",
       "    </tr>\n",
       "  </thead>\n",
       "  <tbody>\n",
       "    <tr>\n",
       "      <th>0</th>\n",
       "      <td>CSWBU</td>\n",
       "      <td>CBR8</td>\n",
       "      <td>CBR-D121-DS-MOD</td>\n",
       "      <td>Q1 FY2022</td>\n",
       "      <td>AUG FY2022</td>\n",
       "      <td>204</td>\n",
       "      <td>01-08-2016</td>\n",
       "    </tr>\n",
       "    <tr>\n",
       "      <th>1</th>\n",
       "      <td>CSWBU</td>\n",
       "      <td>CBR8</td>\n",
       "      <td>CBR-D121-DS-MOD</td>\n",
       "      <td>Q1 FY2022</td>\n",
       "      <td>OCT FY2022</td>\n",
       "      <td>564</td>\n",
       "      <td>01-10-2016</td>\n",
       "    </tr>\n",
       "    <tr>\n",
       "      <th>2</th>\n",
       "      <td>CSWBU</td>\n",
       "      <td>CBR8</td>\n",
       "      <td>CBR-D121-DS-MOD</td>\n",
       "      <td>Q1 FY2022</td>\n",
       "      <td>SEP FY2022</td>\n",
       "      <td>1476</td>\n",
       "      <td>01-09-2016</td>\n",
       "    </tr>\n",
       "    <tr>\n",
       "      <th>3</th>\n",
       "      <td>CSWBU</td>\n",
       "      <td>CBR8</td>\n",
       "      <td>CBR-D121-DS-MOD</td>\n",
       "      <td>Q1 FY2002</td>\n",
       "      <td>AUG FY2002</td>\n",
       "      <td>374</td>\n",
       "      <td>01-08-2017</td>\n",
       "    </tr>\n",
       "    <tr>\n",
       "      <th>4</th>\n",
       "      <td>CSWBU</td>\n",
       "      <td>CBR8</td>\n",
       "      <td>CBR-D121-DS-MOD</td>\n",
       "      <td>Q1 FY2002</td>\n",
       "      <td>OCT FY2002</td>\n",
       "      <td>6094</td>\n",
       "      <td>01-10-2017</td>\n",
       "    </tr>\n",
       "  </tbody>\n",
       "</table>\n",
       "</div>"
      ],
      "text/plain": [
       "  Business Unit Product Family             PLID Fiscal Quarter Fiscal Month  \\\n",
       "0         CSWBU           CBR8  CBR-D121-DS-MOD      Q1 FY2022   AUG FY2022   \n",
       "1         CSWBU           CBR8  CBR-D121-DS-MOD      Q1 FY2022   OCT FY2022   \n",
       "2         CSWBU           CBR8  CBR-D121-DS-MOD      Q1 FY2022   SEP FY2022   \n",
       "3         CSWBU           CBR8  CBR-D121-DS-MOD      Q1 FY2002   AUG FY2002   \n",
       "4         CSWBU           CBR8  CBR-D121-DS-MOD      Q1 FY2002   OCT FY2002   \n",
       "\n",
       "   Booked_Qty Booking_Date  \n",
       "0         204   01-08-2016  \n",
       "1         564   01-10-2016  \n",
       "2        1476   01-09-2016  \n",
       "3         374   01-08-2017  \n",
       "4        6094   01-10-2017  "
      ]
     },
     "execution_count": 35,
     "metadata": {},
     "output_type": "execute_result"
    }
   ],
   "source": [
    "df.head()"
   ]
  },
  {
   "cell_type": "code",
   "execution_count": 36,
   "metadata": {},
   "outputs": [],
   "source": [
    "bu_types = df[\"Business Unit\"].unique()\n",
    "pf_types = df[\"Product Family\"].unique()\n",
    "plid_types = df[\"PLID\"].unique()\n",
    "fq_types = df[\"Fiscal Quarter\"].unique()\n",
    "fm_types = df[\"Fiscal Month\"].unique()"
   ]
  },
  {
   "cell_type": "code",
   "execution_count": 37,
   "metadata": {},
   "outputs": [],
   "source": [
    "months = {'JAN':1, 'FEB':2, 'MAR':3, 'APR':4, 'MAY':5, 'JUN':6, 'JUL':7, 'AUG':8, 'SEP':9, 'OCT':10, 'NOV':11, 'DEC':12}"
   ]
  },
  {
   "cell_type": "code",
   "execution_count": 38,
   "metadata": {},
   "outputs": [],
   "source": [
    "df[\"Fiscal Month\"] = df[\"Fiscal Month\"].apply(lambda x: f'{months[x[0:3]]}-{int(\"20\"+x[-2]+x[-1])}')"
   ]
  },
  {
   "cell_type": "code",
   "execution_count": 39,
   "metadata": {},
   "outputs": [],
   "source": [
    "df[\"Fiscal Month\"] = pd.to_datetime(df[\"Fiscal Month\"], format=\"%m-%Y\")"
   ]
  },
  {
   "cell_type": "code",
   "execution_count": 40,
   "metadata": {},
   "outputs": [],
   "source": [
    "df['Fiscal Quarter'] = df['Fiscal Month'].dt.quarter\n",
    "df['Fiscal Year'] = df['Fiscal Month'].dt.year"
   ]
  },
  {
   "cell_type": "code",
   "execution_count": 41,
   "metadata": {},
   "outputs": [],
   "source": [
    "df[\"mean_across_quarter\"] = df.groupby(['PLID', 'Fiscal Quarter', 'Fiscal Year'], as_index=False).agg({'Booked_Qty': 'mean'})['Booked_Qty']"
   ]
  },
  {
   "cell_type": "code",
   "execution_count": 42,
   "metadata": {},
   "outputs": [
    {
     "data": {
      "text/html": [
       "<div>\n",
       "<style scoped>\n",
       "    .dataframe tbody tr th:only-of-type {\n",
       "        vertical-align: middle;\n",
       "    }\n",
       "\n",
       "    .dataframe tbody tr th {\n",
       "        vertical-align: top;\n",
       "    }\n",
       "\n",
       "    .dataframe thead th {\n",
       "        text-align: right;\n",
       "    }\n",
       "</style>\n",
       "<table border=\"1\" class=\"dataframe\">\n",
       "  <thead>\n",
       "    <tr style=\"text-align: right;\">\n",
       "      <th></th>\n",
       "      <th>Business Unit</th>\n",
       "      <th>Product Family</th>\n",
       "      <th>PLID</th>\n",
       "      <th>Fiscal Quarter</th>\n",
       "      <th>Fiscal Month</th>\n",
       "      <th>Booked_Qty</th>\n",
       "      <th>Booking_Date</th>\n",
       "      <th>Fiscal Year</th>\n",
       "      <th>mean_across_quarter</th>\n",
       "    </tr>\n",
       "  </thead>\n",
       "  <tbody>\n",
       "    <tr>\n",
       "      <th>0</th>\n",
       "      <td>CSWBU</td>\n",
       "      <td>CBR8</td>\n",
       "      <td>CBR-D121-DS-MOD</td>\n",
       "      <td>3</td>\n",
       "      <td>2022-08-01</td>\n",
       "      <td>204</td>\n",
       "      <td>01-08-2016</td>\n",
       "      <td>2022</td>\n",
       "      <td>8.666667</td>\n",
       "    </tr>\n",
       "    <tr>\n",
       "      <th>1</th>\n",
       "      <td>CSWBU</td>\n",
       "      <td>CBR8</td>\n",
       "      <td>CBR-D121-DS-MOD</td>\n",
       "      <td>4</td>\n",
       "      <td>2022-10-01</td>\n",
       "      <td>564</td>\n",
       "      <td>01-10-2016</td>\n",
       "      <td>2022</td>\n",
       "      <td>505.000000</td>\n",
       "    </tr>\n",
       "    <tr>\n",
       "      <th>2</th>\n",
       "      <td>CSWBU</td>\n",
       "      <td>CBR8</td>\n",
       "      <td>CBR-D121-DS-MOD</td>\n",
       "      <td>3</td>\n",
       "      <td>2022-09-01</td>\n",
       "      <td>1476</td>\n",
       "      <td>01-09-2016</td>\n",
       "      <td>2022</td>\n",
       "      <td>12.333333</td>\n",
       "    </tr>\n",
       "    <tr>\n",
       "      <th>3</th>\n",
       "      <td>CSWBU</td>\n",
       "      <td>CBR8</td>\n",
       "      <td>CBR-D121-DS-MOD</td>\n",
       "      <td>3</td>\n",
       "      <td>2002-08-01</td>\n",
       "      <td>374</td>\n",
       "      <td>01-08-2017</td>\n",
       "      <td>2002</td>\n",
       "      <td>73.500000</td>\n",
       "    </tr>\n",
       "    <tr>\n",
       "      <th>4</th>\n",
       "      <td>CSWBU</td>\n",
       "      <td>CBR8</td>\n",
       "      <td>CBR-D121-DS-MOD</td>\n",
       "      <td>4</td>\n",
       "      <td>2002-10-01</td>\n",
       "      <td>6094</td>\n",
       "      <td>01-10-2017</td>\n",
       "      <td>2002</td>\n",
       "      <td>193.500000</td>\n",
       "    </tr>\n",
       "  </tbody>\n",
       "</table>\n",
       "</div>"
      ],
      "text/plain": [
       "  Business Unit Product Family             PLID  Fiscal Quarter Fiscal Month  \\\n",
       "0         CSWBU           CBR8  CBR-D121-DS-MOD               3   2022-08-01   \n",
       "1         CSWBU           CBR8  CBR-D121-DS-MOD               4   2022-10-01   \n",
       "2         CSWBU           CBR8  CBR-D121-DS-MOD               3   2022-09-01   \n",
       "3         CSWBU           CBR8  CBR-D121-DS-MOD               3   2002-08-01   \n",
       "4         CSWBU           CBR8  CBR-D121-DS-MOD               4   2002-10-01   \n",
       "\n",
       "   Booked_Qty Booking_Date  Fiscal Year  mean_across_quarter  \n",
       "0         204   01-08-2016         2022             8.666667  \n",
       "1         564   01-10-2016         2022           505.000000  \n",
       "2        1476   01-09-2016         2022            12.333333  \n",
       "3         374   01-08-2017         2002            73.500000  \n",
       "4        6094   01-10-2017         2002           193.500000  "
      ]
     },
     "execution_count": 42,
     "metadata": {},
     "output_type": "execute_result"
    }
   ],
   "source": [
    "df.head()"
   ]
  },
  {
   "cell_type": "code",
   "execution_count": 43,
   "metadata": {},
   "outputs": [],
   "source": [
    "df['Booked_Qty_Change'] = df.groupby(['PLID', 'Fiscal Quarter', 'Fiscal Year'])['mean_across_quarter'].pct_change()"
   ]
  },
  {
   "cell_type": "code",
   "execution_count": 44,
   "metadata": {},
   "outputs": [],
   "source": [
    "df[\"mean_across_quarter\"] = df[\"mean_across_quarter\"].fillna(0)\n",
    "df[\"Booked_Qty_Change\"] = df[\"Booked_Qty_Change\"].fillna(0)"
   ]
  },
  {
   "cell_type": "code",
   "execution_count": 46,
   "metadata": {},
   "outputs": [],
   "source": [
    "feature_df = df[[\"mean_across_quarter\",\"Booked_Qty_Change\"]]"
   ]
  },
  {
   "cell_type": "code",
   "execution_count": 47,
   "metadata": {},
   "outputs": [],
   "source": [
    "n_array = feature_df.to_numpy(dtype = 'float64')"
   ]
  },
  {
   "cell_type": "code",
   "execution_count": 51,
   "metadata": {},
   "outputs": [],
   "source": [
    "import numpy as np"
   ]
  },
  {
   "cell_type": "code",
   "execution_count": 52,
   "metadata": {},
   "outputs": [],
   "source": [
    "inf_array = np.isinf(n_array)"
   ]
  },
  {
   "cell_type": "code",
   "execution_count": 53,
   "metadata": {},
   "outputs": [],
   "source": [
    "n_array = np.where(inf_array, 0, n_array)"
   ]
  },
  {
   "cell_type": "code",
   "execution_count": 54,
   "metadata": {},
   "outputs": [],
   "source": [
    "feature_df = pd.DataFrame(n_array, columns = [\"mean_across_quarter\",\"Booked_Qty_Change\"])"
   ]
  },
  {
   "cell_type": "code",
   "execution_count": 55,
   "metadata": {},
   "outputs": [],
   "source": [
    "df[\"mean_across_quarter\"] = feature_df[\"mean_across_quarter\"]\n",
    "df[\"Booked_Qty_Change\"] = feature_df[\"Booked_Qty_Change\"]"
   ]
  },
  {
   "cell_type": "code",
   "execution_count": 56,
   "metadata": {},
   "outputs": [],
   "source": [
    "from sklearn.model_selection import train_test_split\n",
    "\n",
    "# Split the data into training and test sets\n",
    "train_data, test_data = train_test_split(df, test_size=0.2, shuffle=True, random_state=42)"
   ]
  },
  {
   "cell_type": "code",
   "execution_count": 57,
   "metadata": {},
   "outputs": [],
   "source": [
    "from sklearn.ensemble import RandomForestRegressor\n",
    "\n",
    "# Train the Random Forest model\n",
    "rf_model = RandomForestRegressor(n_estimators=1000, random_state=42)\n",
    "features = [\"mean_across_quarter\", 'Booked_Qty_Change']"
   ]
  },
  {
   "cell_type": "code",
   "execution_count": 58,
   "metadata": {},
   "outputs": [
    {
     "data": {
      "text/html": [
       "<style>#sk-container-id-1 {color: black;background-color: white;}#sk-container-id-1 pre{padding: 0;}#sk-container-id-1 div.sk-toggleable {background-color: white;}#sk-container-id-1 label.sk-toggleable__label {cursor: pointer;display: block;width: 100%;margin-bottom: 0;padding: 0.3em;box-sizing: border-box;text-align: center;}#sk-container-id-1 label.sk-toggleable__label-arrow:before {content: \"▸\";float: left;margin-right: 0.25em;color: #696969;}#sk-container-id-1 label.sk-toggleable__label-arrow:hover:before {color: black;}#sk-container-id-1 div.sk-estimator:hover label.sk-toggleable__label-arrow:before {color: black;}#sk-container-id-1 div.sk-toggleable__content {max-height: 0;max-width: 0;overflow: hidden;text-align: left;background-color: #f0f8ff;}#sk-container-id-1 div.sk-toggleable__content pre {margin: 0.2em;color: black;border-radius: 0.25em;background-color: #f0f8ff;}#sk-container-id-1 input.sk-toggleable__control:checked~div.sk-toggleable__content {max-height: 200px;max-width: 100%;overflow: auto;}#sk-container-id-1 input.sk-toggleable__control:checked~label.sk-toggleable__label-arrow:before {content: \"▾\";}#sk-container-id-1 div.sk-estimator input.sk-toggleable__control:checked~label.sk-toggleable__label {background-color: #d4ebff;}#sk-container-id-1 div.sk-label input.sk-toggleable__control:checked~label.sk-toggleable__label {background-color: #d4ebff;}#sk-container-id-1 input.sk-hidden--visually {border: 0;clip: rect(1px 1px 1px 1px);clip: rect(1px, 1px, 1px, 1px);height: 1px;margin: -1px;overflow: hidden;padding: 0;position: absolute;width: 1px;}#sk-container-id-1 div.sk-estimator {font-family: monospace;background-color: #f0f8ff;border: 1px dotted black;border-radius: 0.25em;box-sizing: border-box;margin-bottom: 0.5em;}#sk-container-id-1 div.sk-estimator:hover {background-color: #d4ebff;}#sk-container-id-1 div.sk-parallel-item::after {content: \"\";width: 100%;border-bottom: 1px solid gray;flex-grow: 1;}#sk-container-id-1 div.sk-label:hover label.sk-toggleable__label {background-color: #d4ebff;}#sk-container-id-1 div.sk-serial::before {content: \"\";position: absolute;border-left: 1px solid gray;box-sizing: border-box;top: 0;bottom: 0;left: 50%;z-index: 0;}#sk-container-id-1 div.sk-serial {display: flex;flex-direction: column;align-items: center;background-color: white;padding-right: 0.2em;padding-left: 0.2em;position: relative;}#sk-container-id-1 div.sk-item {position: relative;z-index: 1;}#sk-container-id-1 div.sk-parallel {display: flex;align-items: stretch;justify-content: center;background-color: white;position: relative;}#sk-container-id-1 div.sk-item::before, #sk-container-id-1 div.sk-parallel-item::before {content: \"\";position: absolute;border-left: 1px solid gray;box-sizing: border-box;top: 0;bottom: 0;left: 50%;z-index: -1;}#sk-container-id-1 div.sk-parallel-item {display: flex;flex-direction: column;z-index: 1;position: relative;background-color: white;}#sk-container-id-1 div.sk-parallel-item:first-child::after {align-self: flex-end;width: 50%;}#sk-container-id-1 div.sk-parallel-item:last-child::after {align-self: flex-start;width: 50%;}#sk-container-id-1 div.sk-parallel-item:only-child::after {width: 0;}#sk-container-id-1 div.sk-dashed-wrapped {border: 1px dashed gray;margin: 0 0.4em 0.5em 0.4em;box-sizing: border-box;padding-bottom: 0.4em;background-color: white;}#sk-container-id-1 div.sk-label label {font-family: monospace;font-weight: bold;display: inline-block;line-height: 1.2em;}#sk-container-id-1 div.sk-label-container {text-align: center;}#sk-container-id-1 div.sk-container {/* jupyter's `normalize.less` sets `[hidden] { display: none; }` but bootstrap.min.css set `[hidden] { display: none !important; }` so we also need the `!important` here to be able to override the default hidden behavior on the sphinx rendered scikit-learn.org. See: https://github.com/scikit-learn/scikit-learn/issues/21755 */display: inline-block !important;position: relative;}#sk-container-id-1 div.sk-text-repr-fallback {display: none;}</style><div id=\"sk-container-id-1\" class=\"sk-top-container\"><div class=\"sk-text-repr-fallback\"><pre>RandomForestRegressor(n_estimators=1000, random_state=42)</pre><b>In a Jupyter environment, please rerun this cell to show the HTML representation or trust the notebook. <br />On GitHub, the HTML representation is unable to render, please try loading this page with nbviewer.org.</b></div><div class=\"sk-container\" hidden><div class=\"sk-item\"><div class=\"sk-estimator sk-toggleable\"><input class=\"sk-toggleable__control sk-hidden--visually\" id=\"sk-estimator-id-1\" type=\"checkbox\" checked><label for=\"sk-estimator-id-1\" class=\"sk-toggleable__label sk-toggleable__label-arrow\">RandomForestRegressor</label><div class=\"sk-toggleable__content\"><pre>RandomForestRegressor(n_estimators=1000, random_state=42)</pre></div></div></div></div></div>"
      ],
      "text/plain": [
       "RandomForestRegressor(n_estimators=1000, random_state=42)"
      ]
     },
     "execution_count": 58,
     "metadata": {},
     "output_type": "execute_result"
    }
   ],
   "source": [
    "rf_model.fit(train_data[features], train_data['Booked_Qty'])"
   ]
  },
  {
   "cell_type": "code",
   "execution_count": 60,
   "metadata": {},
   "outputs": [
    {
     "name": "stdout",
     "output_type": "stream",
     "text": [
      "MAE: 9131.52\n",
      "RMSE: 18112.34\n"
     ]
    }
   ],
   "source": [
    "from sklearn.metrics import mean_absolute_error, mean_squared_error\n",
    "\n",
    "# Evaluate the performance of the model on the test data\n",
    "test_predictions = rf_model.predict(test_data[features])\n",
    "mae = mean_absolute_error(test_data['Booked_Qty'], test_predictions)\n",
    "rmse = mean_squared_error(test_data['Booked_Qty'], test_predictions, squared=False)\n",
    "print('MAE: {:.2f}'.format(mae))\n",
    "print('RMSE: {:.2f}'.format(rmse))"
   ]
  }
 ],
 "metadata": {
  "kernelspec": {
   "display_name": "Python 3",
   "language": "python",
   "name": "python3"
  },
  "language_info": {
   "codemirror_mode": {
    "name": "ipython",
    "version": 3
   },
   "file_extension": ".py",
   "mimetype": "text/x-python",
   "name": "python",
   "nbconvert_exporter": "python",
   "pygments_lexer": "ipython3",
   "version": "3.10.10"
  },
  "orig_nbformat": 4
 },
 "nbformat": 4,
 "nbformat_minor": 2
}
